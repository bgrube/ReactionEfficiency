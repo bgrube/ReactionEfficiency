{
 "cells": [
  {
   "cell_type": "markdown",
   "id": "toxic-spell",
   "metadata": {},
   "source": [
    "# Fit missing-mass squared distributions"
   ]
  },
  {
   "cell_type": "code",
   "execution_count": null,
   "id": "entitled-outdoors",
   "metadata": {},
   "outputs": [],
   "source": [
    "import array\n",
    "\n",
    "import ROOT\n",
    "from uncertainties import ufloat\n",
    "from uncertainties.umath import *\n",
    "\n",
    "import fitFunction  # defines fit function: double Gaussian on top of a 2nd-order polynomial\n",
    "\n",
    "# ROOT.gStyle.SetOptFit(True)\n",
    "# ROOT.gStyle.SetHistMinimumZero(True)\n",
    "ROOT.gROOT.LoadMacro(\"~/rootlogon.C\")\n",
    "ROOT.gROOT.ForceStyle()\n",
    "ROOT.gStyle.SetTitleColor(1, \"X\")  # fix that for some mysterious reason x-axis titles of 2D plots and graphs are white"
   ]
  },
  {
   "cell_type": "markdown",
   "id": "dcaf9475",
   "metadata": {},
   "source": [
    "## Load files and get input histograms for the 3 cases"
   ]
  },
  {
   "cell_type": "code",
   "execution_count": null,
   "id": "injured-section",
   "metadata": {},
   "outputs": [],
   "source": [
    "# particle = \"Pi-\"\n",
    "# particle = \"Pi+\"\n",
    "particle = \"Proton\"\n",
    "# channel = \"2pi\"\n",
    "channel = \"4pi\"\n",
    "dataset = \"30370_acc_Pval\"\n",
    "fitRange = (-0.5, 4)\n",
    "rebinFactor = 20\n",
    "makerSize = 1.25\n",
    "inFileName = f\"../pmatt/trackeff_{particle}_{channel}{f'.{dataset}' if dataset != '' else ''}.root\"\n",
    "histNames = {\n",
    "  \"Total\"   : \"MissingMass/MissingMassVsBeamEnergy\",\n",
    "  \"Found\"   : \"MissingMass/MissingMassVsBeamEnergy_Found\",\n",
    "  \"Missing\" : \"MissingMass/MissingMassVsBeamEnergy_Missing\"}\n",
    "inFile = ROOT.TFile(inFileName)\n",
    "MM2vsBeamEnergyHists = {case : inFile.Get(histName) for (case, histName) in histNames.items()}"
   ]
  },
  {
   "cell_type": "code",
   "execution_count": null,
   "id": "offshore-processing",
   "metadata": {},
   "outputs": [],
   "source": [
    "canv = ROOT.TCanvas(\"canv\", \"\", 800, 600)\n",
    "MM2vsBeamEnergyHists[\"Missing\"].Draw(\"COLZ\")\n",
    "canv.Draw()"
   ]
  },
  {
   "cell_type": "markdown",
   "id": "79958b46",
   "metadata": {},
   "source": [
    "## Tracking efficiency from overall missing-mass squared distributions"
   ]
  },
  {
   "cell_type": "markdown",
   "id": "realistic-white",
   "metadata": {},
   "source": [
    "### Get overall missing-mass squared distributions by projecting the 2D histograms and adjust binning"
   ]
  },
  {
   "cell_type": "code",
   "execution_count": null,
   "id": "intelligent-behavior",
   "metadata": {},
   "outputs": [],
   "source": [
    "MM2Hists = {case : MM2vsBeamEnergyHist.ProjectionY(\"_py\", 0, -1, \"E\") for (case, MM2vsBeamEnergyHist) in MM2vsBeamEnergyHists.items()}\n",
    "for MM2Hist in MM2Hists.values():\n",
    "  MM2Hist.Rebin(rebinFactor)\n",
    "  MM2Hist.SetTitle(f\"{MM2Hist.GetTitle()} ({channel})\")\n",
    "  MM2Hist.SetYTitle(f\"Counts / {MM2Hist.GetBinWidth(1)}\" + \" (GeV/c^{2})^{2}\")\n",
    "MM2BinWidth = MM2Hists[\"Total\"].GetBinWidth(1)"
   ]
  },
  {
   "cell_type": "markdown",
   "id": "e40481f8",
   "metadata": {},
   "source": [
    "Show example"
   ]
  },
  {
   "cell_type": "code",
   "execution_count": null,
   "id": "1df8247c",
   "metadata": {},
   "outputs": [],
   "source": [
    "MM2Hists[\"Missing\"].Draw()\n",
    "canv.Draw()"
   ]
  },
  {
   "cell_type": "markdown",
   "id": "downtown-hotel",
   "metadata": {},
   "source": [
    "### Fit missing-mass squared distributions for the 3 cases"
   ]
  },
  {
   "cell_type": "code",
   "execution_count": null,
   "id": "sophisticated-lodging",
   "metadata": {},
   "outputs": [],
   "source": [
    "fitResults = {case : fitFunction.fitDistribution(MM2Hist, particle, fitRange, forceCommonGaussianMean = False) for (case, MM2Hist) in MM2Hists.items()}"
   ]
  },
  {
   "cell_type": "code",
   "execution_count": null,
   "id": "284e75a7",
   "metadata": {},
   "outputs": [],
   "source": [
    "def fitStatusString(fitResult):\n",
    "  return (\n",
    "    f\"minimizer status = {fitResult.Status()}, \"\n",
    "    f\"fit result is valid = {fitResult.IsValid()}, \"\n",
    "    f\"covariance matrix status = {fitFunction.COV_MATRIX_STATUS_CODE[fitResult.CovMatrixStatus()][1]}\"\n",
    "  )"
   ]
  },
  {
   "cell_type": "markdown",
   "id": "ed111642",
   "metadata": {},
   "source": [
    "Show fit result"
   ]
  },
  {
   "cell_type": "code",
   "execution_count": null,
   "id": "645071f9",
   "metadata": {},
   "outputs": [],
   "source": [
    "canvsOverall = {}\n",
    "for case, MM2Hist in MM2Hists.items():\n",
    "  canvsOverall[case] = ROOT.TCanvas(f\"paul_{particle}_{channel}_mm2_{dataset}_fit_{case}\", \"\", 1470, 891)\n",
    "  MM2Hist.Draw()\n",
    "  canvsOverall[case].Update()  # needed otherwise TPaveStats object is not created\n",
    "  stats = MM2Hist.FindObject(\"stats\")\n",
    "  stats.SetX1NDC(0.58)\n",
    "  stats.SetX2NDC(0.98)\n",
    "  stats.SetY1NDC(0.28)\n",
    "  stats.SetY2NDC(0.98)\n",
    "  canvsOverall[case].Draw()\n",
    "  canvsOverall[case].SaveAs(\".pdf\")\n",
    "for case, fitResult in fitResults.items():\n",
    "  print(f\"{case}: {fitStatusString(fitResult)}\")"
   ]
  },
  {
   "cell_type": "markdown",
   "id": "010da461",
   "metadata": {},
   "source": [
    "### Get overall signal yields and calculate average efficiency"
   ]
  },
  {
   "cell_type": "code",
   "execution_count": null,
   "id": "e8a2cdd6",
   "metadata": {},
   "outputs": [],
   "source": [
    "def getFitParameter(fitResult, parName):\n",
    "  parIndex = fitResult.Index(parName)\n",
    "  return ufloat(fitResult.Parameter(parIndex), fitResult.ParError(parIndex))"
   ]
  },
  {
   "cell_type": "code",
   "execution_count": null,
   "id": "d0959e24",
   "metadata": {},
   "outputs": [],
   "source": [
    "def getSignalYield(fitResult):\n",
    "  return getFitParameter(fitResult, \"A\") / MM2BinWidth  # normalize to number of events"
   ]
  },
  {
   "cell_type": "code",
   "execution_count": null,
   "id": "e09611aa",
   "metadata": {},
   "outputs": [],
   "source": [
    "def calculateEfficiency(fitResults):  # dictionary with TFitResults for \"Total\", \"Found\", and \"Missing\"\n",
    "  signalYields = {case : getSignalYield(fitResult) for (case, fitResult) in fitResults.items()}\n",
    "  return signalYields[\"Found\"] / (signalYields[\"Found\"] + signalYields[\"Missing\"])"
   ]
  },
  {
   "cell_type": "code",
   "execution_count": null,
   "id": "75037503",
   "metadata": {},
   "outputs": [],
   "source": [
    "signalYields = {case : getSignalYield(fitResult) for (case, fitResult) in fitResults.items()}\n",
    "overallEff = calculateEfficiency(fitResults)\n",
    "#TODO one could perform a combined fit of all 3 histograms enforcing Found + Missing == Total\n",
    "print(signalYields, f\"mismatch = {100 * (signalYields['Total'] - signalYields['Found'] - signalYields['Missing']) / signalYields['Total']}%\")\n",
    "print(f\"Overall efficiency = {100 * overallEff}%\")\n",
    "# Proton 4pi: {'Total': 3592.270996616253+/-11.300877442244428, 'Found': 2291.460860466247+/-7.7572963246630025, 'Missing': 1387.0557172146116+/-14.375700847915482} mismatch = -2.4+/-0.6%\n",
    "# Overall efficiency = 62.29+/-0.26%"
   ]
  },
  {
   "cell_type": "markdown",
   "id": "16e2cbfb",
   "metadata": {},
   "source": [
    "## Tracking efficiencies as a function of beam energy from missing-mass squared distributions"
   ]
  },
  {
   "cell_type": "markdown",
   "id": "limited-danger",
   "metadata": {},
   "source": [
    "### Fit missing-mass squared distributions in bins of beam energy"
   ]
  },
  {
   "cell_type": "code",
   "execution_count": null,
   "id": "d07a811d",
   "metadata": {},
   "outputs": [],
   "source": [
    "def getMissingMassSquaredBeamEnergyBins(\n",
    "  MM2vsBeamEnergyHist,\n",
    "  beamEnergyRange = (3.0, 12.0),  # [GeV]\n",
    "  nmbBeamEnergyBins = 9,          # 1 GeV bin width\n",
    "  minCounts = 1000                # minimum number of counts required in bin\n",
    "):\n",
    "  energyBinWidth = (beamEnergyRange[1] - beamEnergyRange[0]) / float(nmbBeamEnergyBins)\n",
    "  MM2Hists = {}\n",
    "  for energyBin in range(nmbBeamEnergyBins):\n",
    "    # get distribution for given beam energy bin\n",
    "    energyBinMin = beamEnergyRange[0] + energyBin * energyBinWidth\n",
    "    energyBinMax = energyBinMin + energyBinWidth\n",
    "    MM2Hist = MM2vsBeamEnergyHist.ProjectionY(f\"{MM2vsBeamEnergyHist.GetName()}_py_{energyBin}\",\n",
    "      MM2vsBeamEnergyHist.GetXaxis().FindBin(energyBinMin),\n",
    "      MM2vsBeamEnergyHist.GetXaxis().FindBin(energyBinMax))\n",
    "    MM2Hist.Rebin(rebinFactor)\n",
    "    MM2Hist.SetTitle(f\"{MM2vsBeamEnergyHist.GetTitle()} ({channel}), {energyBinMin} < E_{{#gamma}} (GeV) < {energyBinMax}\")\n",
    "    MM2Hist.SetYTitle(f\"Counts / {MM2Hist.GetBinWidth(1)} (GeV/c^{{2}})^{{2}}\")\n",
    "    counts = MM2Hist.Integral(1, MM2Hist.GetNbinsX())\n",
    "    if  counts >= minCounts:\n",
    "      MM2Hists[(energyBinMin, energyBinMax)] = MM2Hist\n",
    "    else:\n",
    "      print(f\"Warning: {counts} counts in energy bin {(energyBinMin, energyBinMax)} are below the required minimum of {minCounts}. Skipping bin.\")\n",
    "\n",
    "  return MM2Hists"
   ]
  },
  {
   "cell_type": "code",
   "execution_count": null,
   "id": "0d55eb03",
   "metadata": {},
   "outputs": [],
   "source": [
    "MM2HistsEBins = {case : getMissingMassSquaredBeamEnergyBins(MM2vsBeamEnergyHist) for (case, MM2vsBeamEnergyHist) in MM2vsBeamEnergyHists.items()}"
   ]
  },
  {
   "cell_type": "code",
   "execution_count": null,
   "id": "increasing-armenia",
   "metadata": {},
   "outputs": [],
   "source": [
    "def fitMissingMassSquaredBeamEnergyBins(\n",
    "  MM2HistsEBins,  # dictionary of dictionaries {case : {energy bin : histogram, ...}, ...}\n",
    "  **kwargs\n",
    "):\n",
    "  fitResults = {}\n",
    "  for case, MM2Hists in MM2HistsEBins.items():\n",
    "    fitResults[case] = {}\n",
    "    for energyBin, MM2Hist in MM2Hists.items():\n",
    "      # fit distribution\n",
    "      print(f\"Fitting case {case} for beam energy bin {energyBin} GeV\")\n",
    "      fitResults[case][energyBin] = fitFunction.fitDistribution(MM2Hist, **kwargs)\n",
    "\n",
    "  return fitResults"
   ]
  },
  {
   "cell_type": "code",
   "execution_count": null,
   "id": "b1297606",
   "metadata": {},
   "outputs": [],
   "source": [
    "fitResultsEBins = fitMissingMassSquaredBeamEnergyBins(MM2HistsEBins, particle = particle, fitRange = fitRange, forceCommonGaussianMean = True)"
   ]
  },
  {
   "cell_type": "markdown",
   "id": "d8338521",
   "metadata": {},
   "source": [
    "### Check whether fits converged"
   ]
  },
  {
   "cell_type": "code",
   "execution_count": null,
   "id": "edc009a6",
   "metadata": {},
   "outputs": [],
   "source": [
    "for case, fitResults in fitResultsEBins.items():\n",
    "  for energyBin, fitResult in fitResults.items():\n",
    "    print(f\"case {case}, energy bin {energyBin} GeV: {fitStatusString(fitResult)}\")"
   ]
  },
  {
   "cell_type": "markdown",
   "id": "75970e95",
   "metadata": {},
   "source": [
    "### Show fits"
   ]
  },
  {
   "cell_type": "code",
   "execution_count": null,
   "id": "adbd3058",
   "metadata": {},
   "outputs": [],
   "source": [
    "canvsEBins = {}\n",
    "for case, MM2Hists in MM2HistsEBins.items():\n",
    "  canvsEBins[case] = {}\n",
    "  for energyBin, MM2Hist in MM2Hists.items():\n",
    "    canvsEBins[case][energyBin] = ROOT.TCanvas(f\"paul_{particle}_{channel}_mm2_{dataset}_fit_{case}_Egamma_{energyBin[0]}_{energyBin[1]}\", \"\", 1470, 891)\n",
    "    MM2Hist.SetMinimum(0)\n",
    "    MM2Hist.Draw()\n",
    "    canvsEBins[case][energyBin].Update()  # needed otherwise TPaveStats object is not created\n",
    "    stats = MM2Hist.FindObject(\"stats\")\n",
    "    stats.SetX1NDC(0.58)\n",
    "    stats.SetX2NDC(0.98)\n",
    "    stats.SetY1NDC(0.28)\n",
    "    stats.SetY2NDC(0.93)\n",
    "    canvsEBins[case][energyBin].Draw()\n",
    "    canvsEBins[case][energyBin].SaveAs(\".pdf\")"
   ]
  },
  {
   "cell_type": "markdown",
   "id": "797d3736",
   "metadata": {},
   "source": [
    "### Plot fit parameters"
   ]
  },
  {
   "cell_type": "markdown",
   "id": "0693aae8",
   "metadata": {},
   "source": [
    "Get values of fit parameters"
   ]
  },
  {
   "cell_type": "code",
   "execution_count": null,
   "id": "416876fb",
   "metadata": {},
   "outputs": [],
   "source": [
    "fitParValues = {}  # {case : {parameter name : [ [energy bin center, parameter value] ...] ...} ...}\n",
    "for case in fitResultsEBins.keys():\n",
    "  fitParValues[case] = {}\n",
    "  for energyBin, fitResult in fitResultsEBins[case].items():\n",
    "    energyBinCenter = (energyBin[0] + energyBin[1]) / 2\n",
    "    for parIndex in range(fitResult.NTotalParameters()):\n",
    "      parName = fitResult.ParName(parIndex)\n",
    "      parValue = getFitParameter(fitResult, parName)\n",
    "      if not parName in fitParValues[case]:\n",
    "        fitParValues[case][parName] = []\n",
    "      fitParValues[case][parName].append([energyBinCenter, parValue])\n",
    "# print(fitParValues)"
   ]
  },
  {
   "cell_type": "markdown",
   "id": "abaf7e4a",
   "metadata": {},
   "source": [
    "Postprocess fit-parameter values"
   ]
  },
  {
   "cell_type": "code",
   "execution_count": null,
   "id": "50c5918d",
   "metadata": {},
   "outputs": [],
   "source": [
    "for case in fitParValues.keys():\n",
    "  for energyBinIndex, r in enumerate(fitParValues[case][\"r\"]):\n",
    "    # calculate Gaussian 2 fraction\n",
    "    ratio = sin(r[1])**2\n",
    "    # make sure sigma_1 is the narrow Gaussian\n",
    "    sigma1 = fitParValues[case][\"#sigma_{1}\"][energyBinIndex][1]\n",
    "    sigma2 = fitParValues[case][\"#sigma_{2}\"][energyBinIndex][1]\n",
    "    if sigma1 > sigma2:\n",
    "      # print(\"!!!swap\")\n",
    "      # swap values\n",
    "      fitParValues[case][\"#sigma_{1}\"][energyBinIndex][1] = sigma2\n",
    "      fitParValues[case][\"#sigma_{2}\"][energyBinIndex][1] = sigma1\n",
    "      #TODO add case for separate mean values\n",
    "      ratio = 1 - ratio\n",
    "    # print(energyBinIndex, ratio)\n",
    "    fitParValues[case][\"r\"][energyBinIndex][1] = ratio\n",
    "# print(fitParValues)"
   ]
  },
  {
   "cell_type": "markdown",
   "id": "40f4b65b",
   "metadata": {},
   "source": [
    "Plot fit-parameter values"
   ]
  },
  {
   "cell_type": "code",
   "execution_count": null,
   "id": "e498fcb5",
   "metadata": {},
   "outputs": [],
   "source": [
    "caseColors = {\n",
    "  \"Total\"   : ROOT.kBlack,\n",
    "  \"Found\"   : ROOT.kGreen+2,\n",
    "  \"Missing\" : ROOT.kRed+1}\n",
    "energyOffsets = {\n",
    "  \"Total\"   : 0,\n",
    "  \"Found\"   : 0.05,\n",
    "  \"Missing\" : 0.1}\n",
    "canvsFitPar = []\n",
    "parValueMultiGraphs = []\n",
    "parValueGraphs = []\n",
    "for parName in fitParValues[\"Total\"].keys():\n",
    "  canvsFitPar.append(ROOT.TCanvas(f\"paul_{particle}_{channel}_mm2_{dataset}_fit_par_{parName}\", \"\", 1470, 891))\n",
    "  parValueMultiGraphs.append(ROOT.TMultiGraph())\n",
    "  parValueGraphs.append({})\n",
    "  for case in fitParValues.keys():\n",
    "    parValues = fitParValues[case][parName]\n",
    "    xVals = array.array('d', [energy + energyOffsets[case] for energy, _ in parValues])\n",
    "    yVals = array.array('d', [parValue.nominal_value for _, parValue in parValues])\n",
    "    yErrs = array.array('d', [parValue.std_dev       for _, parValue in parValues])\n",
    "    parValueGraphs[-1][case] = ROOT.TGraphErrors(len(xVals), xVals, yVals, ROOT.nullptr, yErrs)\n",
    "    graph = parValueGraphs[-1][case]\n",
    "    graph.SetTitle(case)\n",
    "    graph.SetMarkerStyle(ROOT.kFullCircle)\n",
    "    graph.SetMarkerSize(makerSize)\n",
    "    graph.SetMarkerColor(caseColors[case])\n",
    "    graph.SetLineColor(caseColors[case])\n",
    "    parValueMultiGraphs[-1].Add(graph)\n",
    "  parValueMultiGraph = parValueMultiGraphs[-1]\n",
    "  parValueMultiGraph.SetTitle(f\"{particle} ({channel})\")\n",
    "  parValueMultiGraph.GetXaxis().SetTitle(\"Beam Energy (GeV)\")\n",
    "  parValueMultiGraph.GetYaxis().SetTitle(parName if parName != \"r\" else \"Fraction Wide Gaussian\")\n",
    "  parValueMultiGraph.Draw(\"APZ\")\n",
    "  canvsFitPar[-1].BuildLegend()\n",
    "  if parName == \"#mu\":\n",
    "    # indicate nominal value m_p^2 value\n",
    "    line = ROOT.TLine()\n",
    "    line.SetLineStyle(ROOT.kDashed)\n",
    "    protonMassSq = 0.93827208816**2\n",
    "    line.DrawLine(parValueMultiGraph.GetXaxis().GetXmin(), protonMassSq, parValueMultiGraph.GetXaxis().GetXmax(), protonMassSq)\n",
    "  canvsFitPar[-1].Draw()\n",
    "  canvsFitPar[-1].SaveAs(\".pdf\")"
   ]
  },
  {
   "cell_type": "markdown",
   "id": "5a80c2df",
   "metadata": {},
   "source": [
    "### Calculate and plot efficiencies"
   ]
  },
  {
   "cell_type": "code",
   "execution_count": null,
   "id": "ba89e35f",
   "metadata": {},
   "outputs": [],
   "source": [
    "efficienciesEBins = {}\n",
    "for energyBin in fitResultsEBins[\"Total\"].keys():\n",
    "  fitResults = {case : fitResultsEBins[case][energyBin] for case in fitResultsEBins.keys()}\n",
    "  efficienciesEBins[energyBin] = calculateEfficiency(fitResults)\n",
    "for energyBin, efficiency in efficienciesEBins.items():\n",
    "  print(f\"Efficiency in energy bin {energyBin} GeV = {100 * efficiency}%\")"
   ]
  },
  {
   "cell_type": "code",
   "execution_count": null,
   "id": "904682c8",
   "metadata": {},
   "outputs": [],
   "source": [
    "\n",
    "graphVals = [((energyBin[0] + energyBin[1]) / 2, efficiency) for (energyBin, efficiency) in efficienciesEBins.items()]\n",
    "xVals = array.array('d', [graphVal[0] for graphVal in graphVals])\n",
    "yVals = array.array('d', [graphVal[1].nominal_value for graphVal in graphVals])\n",
    "yErrs = array.array('d', [graphVal[1].std_dev       for graphVal in graphVals])\n",
    "# print(xVals, yVals, yErrs)\n",
    "efficienciesEBinsGraph = ROOT.TGraphErrors(len(graphVals), xVals, yVals, ROOT.nullptr, yErrs)\n",
    "efficienciesEBinsGraph.SetTitle(f\"{particle} Track-Finding Efficiency ({channel})\")\n",
    "efficienciesEBinsGraph.SetMarkerStyle(ROOT.kFullCircle)\n",
    "efficienciesEBinsGraph.SetMarkerSize(makerSize)\n",
    "efficienciesEBinsGraph.GetXaxis().SetTitle(\"Beam Energy (GeV)\")\n",
    "efficienciesEBinsGraph.GetYaxis().SetTitle(\"Efficiency\")\n",
    "canvEff = ROOT.TCanvas(f\"paul_{particle}_{channel}_mm2_{dataset}_eff\", \"\", 1470, 891)\n",
    "efficienciesEBinsGraph.Draw(\"AP\")\n",
    "line = ROOT.TLine()\n",
    "line.SetLineStyle(ROOT.kDashed)\n",
    "line.DrawLine(efficienciesEBinsGraph.GetXaxis().GetXmin(), overallEff.nominal_value, efficienciesEBinsGraph.GetXaxis().GetXmax(), overallEff.nominal_value)\n",
    "canvEff.Draw()\n",
    "canvEff.SaveAs(\".pdf\")"
   ]
  },
  {
   "cell_type": "markdown",
   "id": "f6359c22",
   "metadata": {},
   "source": [
    "# Scratchpad"
   ]
  },
  {
   "cell_type": "code",
   "execution_count": null,
   "id": "1e347814",
   "metadata": {},
   "outputs": [],
   "source": [
    "# see https://root-forum.cern.ch/t/syntax-of-a-free-function-or-c-functor-for-tgraph-fitting/22292/3\n",
    "# and https://root.cern/manual/python/#just-in-time-compilation-of-small-strings\n",
    "ROOT.gInterpreter.ProcessLine('''\n",
    "struct MyFunction {\n",
    "  MyFunction() { }\n",
    "\n",
    "  double operator() (double* vars, double* pars)\n",
    "  {\n",
    "    const double x  = vars[0];\n",
    "    const double p0 = pars[0];\n",
    "    const double p1 = pars[1];\n",
    "    const double p2 = pars[2];\n",
    "\n",
    "    const double linTerm = p1 + p2 * x;\n",
    "    return p0 * p0 + linTerm * linTerm;\n",
    "  }\n",
    "};\n",
    "''')\n",
    "myFunc = ROOT.MyFunction()\n",
    "func = ROOT.TF1(\"func\", myFunc, -1, 1, 3)\n",
    "# make function visible in Cling's global scope so it can be used in TFormula\n",
    "# see https://root-forum.cern.ch/t/advanced-tformula-and-tf1-usage/36643/2\n",
    "ROOT.gInterpreter.ProcessLine(\"TF1& func = *((TF1*)gROOT->GetFunction(\\\"func\\\"))\")\n",
    "#!!! parameter setting in TFormula expression does not work\n",
    "fooFunc = ROOT.TF1(\"fooFunc\", \"func(x)\", -1, 1, 3)\n",
    "fooFunc.SetParameter(0, -1)\n",
    "fooFunc.SetParameter(1, -2)\n",
    "fooFunc.SetParameter(2, -3)\n",
    "# fooFunc = ROOT.TF1(\"fooFunc\", \"func(x, [2..4])\", -1, 1, 5)\n",
    "# fooFunc.SetParameter(0, 10)\n",
    "# fooFunc.SetParameter(1, -5)\n",
    "# fooFunc.SetParameter(2, -1)\n",
    "# fooFunc.SetParameter(3, -2)\n",
    "# fooFunc.SetParameter(4, -3)\n",
    "# canv = ROOT.TCanvas(\"canv\", \"\", 800, 600)\n",
    "fooFunc.Draw()\n",
    "canv.Draw()"
   ]
  },
  {
   "cell_type": "code",
   "execution_count": null,
   "id": "44bedc2d",
   "metadata": {},
   "outputs": [],
   "source": []
  }
 ],
 "metadata": {
  "kernelspec": {
   "display_name": "Python 3.10.8 ('env': venv)",
   "language": "python",
   "name": "python3"
  },
  "language_info": {
   "codemirror_mode": {
    "name": "ipython",
    "version": 3
   },
   "file_extension": ".py",
   "mimetype": "text/x-python",
   "name": "python",
   "nbconvert_exporter": "python",
   "pygments_lexer": "ipython3",
   "version": "3.10.8"
  },
  "vscode": {
   "interpreter": {
    "hash": "978b7efe48f4a1b7f247345614099316e109efb6f634030d70220c167923aa8b"
   }
  }
 },
 "nbformat": 4,
 "nbformat_minor": 5
}
