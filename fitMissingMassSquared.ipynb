{
 "cells": [
  {
   "cell_type": "markdown",
   "id": "toxic-spell",
   "metadata": {},
   "source": [
    "# Fit Missing Mass Squared Distributions"
   ]
  },
  {
   "cell_type": "code",
   "execution_count": null,
   "id": "entitled-outdoors",
   "metadata": {},
   "outputs": [],
   "source": [
    "import array\n",
    "import ROOT\n",
    "\n",
    "ROOT.gStyle.SetOptFit(True)\n",
    "ROOT.gStyle.SetHistMinimumZero(True);\n",
    "\n",
    "COV_MATRIX_STATUS_CODE = {\n",
    "  0 : \"not calculated\",\n",
    "  1 : \"approximated\",\n",
    "  2 : \"made positive definite\",\n",
    "  3 : \"accurate\"\n",
    "}"
   ]
  },
  {
   "cell_type": "markdown",
   "id": "dcaf9475",
   "metadata": {},
   "source": [
    "## Load files and get input histograms for the 3 cases"
   ]
  },
  {
   "cell_type": "code",
   "execution_count": null,
   "id": "injured-section",
   "metadata": {},
   "outputs": [],
   "source": [
    "particle = \"Pi-\"\n",
    "# particle = \"Pi+\"\n",
    "# particle = \"Proton\"\n",
    "rebinFactor = 35 if particle == \"Proton\" else 40;\n",
    "inFileName = f\"~/Analysis/ProtonTrackEfficiency/pmatt/trackeff_{particle}_4pi.root\"\n",
    "# inFileName = f\"~/Analysis/ProtonTrackEfficiency/pmatt/trackeff_{particle}_2pi.root\"\n",
    "histNames = {\n",
    "  \"Total\"   : \"MissingMass/MissingMassVsBeamEnergy\",\n",
    "  \"Found\"   : \"MissingMass/MissingMassVsBeamEnergy_Found\",\n",
    "  \"Missing\" : \"MissingMass/MissingMassVsBeamEnergy_Missing\"}\n",
    "inFile = ROOT.TFile(inFileName)\n",
    "MM2vsBeamEnergyHists = {case : inFile.Get(histName) for (case, histName) in histNames.items()}"
   ]
  },
  {
   "cell_type": "code",
   "execution_count": null,
   "id": "offshore-processing",
   "metadata": {},
   "outputs": [],
   "source": [
    "canv = ROOT.TCanvas(\"canv\", \"\", 800, 600)\n",
    "MM2vsBeamEnergyHists[\"Missing\"].Draw(\"COLZ\")\n",
    "canv.Draw()"
   ]
  },
  {
   "cell_type": "markdown",
   "id": "79958b46",
   "metadata": {},
   "source": [
    "## Tracking efficiency from overall missing mass squared distributions"
   ]
  },
  {
   "cell_type": "markdown",
   "id": "realistic-white",
   "metadata": {},
   "source": [
    "### Get missing overall mass squared distributions by projecting the 2D histograms and adjust binning"
   ]
  },
  {
   "cell_type": "code",
   "execution_count": null,
   "id": "intelligent-behavior",
   "metadata": {},
   "outputs": [],
   "source": [
    "MM2Hists = {case : MM2vsBeamEnergyHist.ProjectionY() for (case, MM2vsBeamEnergyHist) in MM2vsBeamEnergyHists.items()}\n",
    "# MM2Hists = {case : MM2vsBeamEnergyHist.ProjectionY(f\"{MM2vsBeamEnergyHist.GetName()}_py\",\n",
    "#     MM2vsBeamEnergyHist.GetXaxis().FindBin(10.25), MM2vsBeamEnergyHist.GetXaxis().FindBin(10.50))\n",
    "#   for (case, MM2vsBeamEnergyHist) in MM2vsBeamEnergyHists.items()}\n",
    "for MM2Hist in MM2Hists.values():\n",
    "  MM2Hist.Rebin(rebinFactor)\n",
    "  MM2Hist.SetYTitle(f\"Counts / {MM2Hist.GetBinWidth(1) * 1000}\" + \" (MeV/c^{2})^{2}\")\n",
    "MM2Hists[\"Missing\"].Draw()\n",
    "canv.Draw()"
   ]
  },
  {
   "cell_type": "markdown",
   "id": "minus-happiness",
   "metadata": {},
   "source": [
    "### Function that fits a missing mass squared distribution with a double Gaussian on top of a 2nd-order polynomial"
   ]
  },
  {
   "cell_type": "code",
   "execution_count": null,
   "id": "occasional-tractor",
   "metadata": {},
   "outputs": [],
   "source": [
    "# define fit function\n",
    "# see https://root-forum.cern.ch/t/syntax-of-a-free-function-or-c-functor-for-tgraph-fitting/22292/3\n",
    "# and https://root.cern/manual/python/#just-in-time-compilation-of-small-strings\n",
    "ROOT.gROOT.LoadMacro(\"./doubleGaussianPol2.C+\")\n",
    "# Python callables need to exits in scope where where fit functions are drawn\n",
    "doubleGaussianPol2 = ROOT.doubleGaussianPol2()\n",
    "signal = ROOT.doubleGaussianPol2(ROOT.doubleGaussianPol2.signal)\n",
    "gaussian1 = ROOT.doubleGaussianPol2(ROOT.doubleGaussianPol2.gaussian1)\n",
    "gaussian2 = ROOT.doubleGaussianPol2(ROOT.doubleGaussianPol2.gaussian2)\n",
    "background = ROOT.doubleGaussianPol2(ROOT.doubleGaussianPol2.background)\n",
    "\n",
    "# fit function to distribution\n",
    "def fitMissingMassSquared(MM2Hist, particle, fitRange = None, fixParValues = None, forceCommonGaussianMean = False):\n",
    "  print(f\"Fitting histogram '{MM2Hist.GetName()}', '{MM2Hist.GetTitle()}'\")\n",
    "  # construct fit function and set start parameters\n",
    "  if fitRange is None:\n",
    "    fitRange  = (MM2Hist.GetXaxis().GetXmin(), MM2Hist.GetXaxis().GetXmax())\n",
    "  doubleGaussianPol2._forceCommonGaussianMean = forceCommonGaussianMean\n",
    "  fitFunc = ROOT.TF1(\"doubleGaussianPol2\", doubleGaussianPol2, fitRange[0], fitRange[1], 8 if forceCommonGaussianMean else 9)\n",
    "  fitParameters = ((\"p_{0}\", \"p_{1}\", \"p_{2}\", \"A\", \"r\", \"#sigma_{1}\", \"#sigma_{2}\", \"#mu\") if forceCommonGaussianMean\n",
    "    else (\"p_{0}\", \"p_{1}\", \"p_{2}\", \"A\", \"r\", \"#sigma_{1}\", \"#sigma_{2}\", \"#mu_{1}\", \"#mu_{2}\"))\n",
    "  fitFunc.SetParNames(*fitParameters)\n",
    "\n",
    "  # ROOT.Math.MinimizerOptions().SetDefaultTolerance(0.001)\n",
    "  # ROOT.Math.MinimizerOptions().SetMaxFunctionCalls(100000)\n",
    "  # ROOT.Math.MinimizerOptions().SetDefaultPrintLevel(3)\n",
    "\n",
    "  # first fitting stage: use single Gaussian on top of pol1\n",
    "  if particle == \"Proton\":\n",
    "    meanStartVal = 0.9383**2  # (proton mass)^2 [GeV^2]\n",
    "    widthStartVal = 1.0       # [GeV^2]\n",
    "  else:\n",
    "    meanStartVal = 0.1396**2  # (pion mass)^2 [GeV^2]\n",
    "    widthStartVal = 0.2       # [GeV^2]\n",
    "  fitFunc.SetParameter(\"A\", MM2Hist.Integral(MM2Hist.FindBin(fitRange[0]), MM2Hist.FindBin(fitRange[1])))\n",
    "  fitFunc.SetParLimits(fitFunc.GetParNumber(\"A\"), 0, 2 * fitFunc.GetParameter(\"A\"))  # ensure positive parameter value\n",
    "  fitFunc.FixParameter(fitFunc.GetParNumber(\"r\"), 0)\n",
    "  if forceCommonGaussianMean:\n",
    "    fitFunc.SetParameter(\"#mu\", meanStartVal)\n",
    "  else:\n",
    "    fitFunc.SetParameter(\"#mu_{1}\", meanStartVal)\n",
    "    fitFunc.FixParameter(fitFunc.GetParNumber(\"#mu_{2}\"), meanStartVal)\n",
    "  fitFunc.SetParameter(\"#sigma_{1}\", widthStartVal)\n",
    "  fitFunc.SetParLimits(fitFunc.GetParNumber(\"#sigma_{1}\"), 0, 10)  # ensure positive parameter value\n",
    "  fitFunc.FixParameter(fitFunc.GetParNumber(\"#sigma_{2}\"), widthStartVal)\n",
    "  fitFunc.SetParameter(\"p_{0}\", 0)\n",
    "  fitFunc.SetParameter(\"p_{1}\", 0)\n",
    "  fitFunc.FixParameter(fitFunc.GetParNumber(\"p_{2}\"), 0)\n",
    "  # MM2Hist.Fit(fitFunc, \"WLRQN\")\n",
    "  MM2Hist.Fit(fitFunc, \"RQN\")\n",
    "\n",
    "  # second fitting stage: use double Gaussian on top of pol1\n",
    "  fitFunc.ReleaseParameter(fitFunc.GetParNumber(\"r\"))\n",
    "  fitFunc.SetParameter(\"r\", 0.5)  # nudge it, otherwise it does not move from zero\n",
    "  if not forceCommonGaussianMean:\n",
    "    fitFunc.ReleaseParameter(fitFunc.GetParNumber(\"#mu_{2}\"))\n",
    "  fitFunc.ReleaseParameter(fitFunc.GetParNumber(\"#sigma_{2}\"))\n",
    "  fitFunc.SetParLimits(fitFunc.GetParNumber(\"#sigma_{2}\"), 0, 10)  # ensure positive parameter value\n",
    "  # MM2Hist.Fit(fitFunc, \"WLRQN\")\n",
    "  MM2Hist.Fit(fitFunc, \"RQN\")\n",
    "\n",
    "  # third fitting stage: use double Gaussian on top of pol2\n",
    "  fitFunc.ReleaseParameter(fitFunc.GetParNumber(\"p_{2}\"))\n",
    "  # fitResult = MM2Hist.Fit(fitFunc, \"WLRIMSN\")\n",
    "  # fitResult = MM2Hist.Fit(fitFunc, \"REIMSN\")\n",
    "  fitResult = MM2Hist.Fit(fitFunc, \"REMSN\")\n",
    "\n",
    "  fitFunc.SetLineColor(ROOT.kRed + 1)\n",
    "  fitFunc.SetNpx(1000)\n",
    "  MM2Hist.GetListOfFunctions().Add(fitFunc)\n",
    "\n",
    "  # add components of fit model to LoF of histogram\n",
    "  signal._forceCommonGaussianMean = forceCommonGaussianMean\n",
    "  sigFunc = ROOT.TF1(\"signal\", signal, fitRange[0], fitRange[1], 9)\n",
    "  sigFunc.SetLineColor(ROOT.kGreen + 2)\n",
    "  gaussian1._forceCommonGaussianMean = forceCommonGaussianMean\n",
    "  gauss1Func = ROOT.TF1(\"gaussian1\", gaussian1, fitRange[0], fitRange[1], 9)\n",
    "  gauss1Func.SetLineStyle(ROOT.kDashed)\n",
    "  gauss1Func.SetLineColor(ROOT.kGreen + 2)\n",
    "  gaussian2._forceCommonGaussianMean = forceCommonGaussianMean\n",
    "  gauss2Func = ROOT.TF1(\"gaussian2\", gaussian2, fitRange[0], fitRange[1], 9)\n",
    "  gauss2Func.SetLineStyle(ROOT.kDashed)\n",
    "  gauss2Func.SetLineColor(ROOT.kGreen + 2)\n",
    "  background._forceCommonGaussianMean = forceCommonGaussianMean\n",
    "  bgFunc = ROOT.TF1(\"background\", background, fitRange[0], fitRange[1], 9)\n",
    "  bgFunc.SetLineColor(ROOT.kBlue)\n",
    "  components = (sigFunc, gauss1Func, gauss2Func, bgFunc)\n",
    "  for func in components:\n",
    "    func.SetNpx(1000)\n",
    "    func.SetParNames(*fitParameters)\n",
    "    func.SetParameters(fitFunc.GetParameters())\n",
    "    MM2Hist.GetListOfFunctions().Add(func)\n",
    "\n",
    "  fitResult.Print()\n",
    "  print(f\"reduced chi^2 = {fitResult.Chi2() / fitResult.Ndf()}; P-value = {fitResult.Prob()}\")\n",
    "  return fitResult"
   ]
  },
  {
   "cell_type": "markdown",
   "id": "downtown-hotel",
   "metadata": {},
   "source": [
    "### Fit missing mass squared distributions for the 3 cases"
   ]
  },
  {
   "cell_type": "code",
   "execution_count": null,
   "id": "sophisticated-lodging",
   "metadata": {},
   "outputs": [],
   "source": [
    "fitResults = {case : fitMissingMassSquared(MM2Hist, particle, forceCommonGaussianMean = True) for (case, MM2Hist) in MM2Hists.items()}"
   ]
  },
  {
   "cell_type": "code",
   "execution_count": null,
   "id": "645071f9",
   "metadata": {},
   "outputs": [],
   "source": [
    "canvsOverall = {}\n",
    "for case, MM2Hist in MM2Hists.items():\n",
    "  canvsOverall[case] = ROOT.TCanvas(f\"canv_{case}\", \"\", 800, 600)\n",
    "  MM2Hist.Draw()\n",
    "  canvsOverall[case].Draw()\n",
    "for case, fitResult in fitResults.items():\n",
    "  print(\n",
    "    f\"{case}: \"\n",
    "    f\"minimizer status = {fitResult.Status()}, \"\n",
    "    f\"fit result is valid = {fitResult.IsValid()}, \"\n",
    "    f\"covariance matrix status = {COV_MATRIX_STATUS_CODE[fitResult.CovMatrixStatus()]}\"\n",
    "  )"
   ]
  },
  {
   "cell_type": "markdown",
   "id": "010da461",
   "metadata": {},
   "source": [
    "### Get overall signal yields and calculate average efficiency"
   ]
  },
  {
   "cell_type": "code",
   "execution_count": null,
   "id": "e8a2cdd6",
   "metadata": {},
   "outputs": [],
   "source": [
    "def getSignalYield(fitResult):\n",
    "  signalYield = fitResult.Parameter(fitResult.Index(\"A\"))\n",
    "  return signalYield"
   ]
  },
  {
   "cell_type": "code",
   "execution_count": null,
   "id": "75037503",
   "metadata": {},
   "outputs": [],
   "source": [
    "# assumes that 'fitResults' is dictionary with TFitResults for \"Total\", \"Found\", and \"Missing\"\n",
    "def calculateEfficiency(fitResults):\n",
    "  signalYields = {case : getSignalYield(fitResult) for (case, fitResult) in fitResults.items()}\n",
    "  #TODO one could perform a combined fit of all 3 histograms enforcing Found + Missing == Total\n",
    "  return signalYields[\"Found\"] / (signalYields[\"Found\"] + signalYields[\"Missing\"])\n",
    "signalYields = {case : getSignalYield(fitResult) for (case, fitResult) in fitResults.items()}\n",
    "print(signalYields, f\"mismatch = {100 * (signalYields['Total'] - signalYields['Found'] - signalYields['Missing']) / signalYields['Total']}%\")\n",
    "print(f\"Overall efficiency = {100 * calculateEfficiency(fitResults)}%\")\n",
    "# {'Total': 216950.66785648285, 'Found': 133750.90614121358, 'Missing': 87366.35393304852} mismatch = -1.920525186184509%\n",
    "# Overall efficiency = 60.4886774086715%"
   ]
  },
  {
   "cell_type": "markdown",
   "id": "16e2cbfb",
   "metadata": {},
   "source": [
    "## Tracking efficiencies as a function of beam energy from mass squared distributions"
   ]
  },
  {
   "cell_type": "markdown",
   "id": "limited-danger",
   "metadata": {},
   "source": [
    "### Fit missing mass squared distributions in bins of beam energy"
   ]
  },
  {
   "cell_type": "code",
   "execution_count": null,
   "id": "d07a811d",
   "metadata": {},
   "outputs": [],
   "source": [
    "def getMissingMassSquaredBeamEnergyBins(MM2vsBeamEnergyHist,\n",
    "                                        nmbBeamEnergyBins = 9,          # 1 GeV bin width\n",
    "                                        beamEnergyRange = (3.0, 12.0),  # [GeV]\n",
    "                                        minCounts = 1000):              # minimum number of counts required in bin\n",
    "  energyBinWidth = (beamEnergyRange[1] - beamEnergyRange[0]) / float(nmbBeamEnergyBins)\n",
    "  MM2Hists = {}\n",
    "  for energyBin in range(nmbBeamEnergyBins):\n",
    "    # get distribution for given beam energy bin\n",
    "    energyBinMin = beamEnergyRange[0] + energyBin * energyBinWidth\n",
    "    energyBinMax = energyBinMin + energyBinWidth\n",
    "    MM2Hist = MM2vsBeamEnergyHist.ProjectionY(f\"{MM2vsBeamEnergyHist.GetName()}_py_{energyBin}\",\n",
    "      MM2vsBeamEnergyHist.GetXaxis().FindBin(energyBinMin),\n",
    "      MM2vsBeamEnergyHist.GetXaxis().FindBin(energyBinMax))\n",
    "    MM2Hist.Rebin(rebinFactor)\n",
    "    MM2Hist.SetTitle(f\"{MM2vsBeamEnergyHist.GetTitle()}, {energyBinMin} < E_{{#gamma}} (GeV) < {energyBinMax}\")\n",
    "    MM2Hist.SetYTitle(f\"Counts / {MM2Hist.GetBinWidth(1) * 1000} (MeV/c^{{2}})^{{2}}\")\n",
    "    counts = MM2Hist.Integral(1, MM2Hist.GetNbinsX())\n",
    "    if  counts >= minCounts:\n",
    "      MM2Hists[(energyBinMin, energyBinMax)] = MM2Hist\n",
    "    else:\n",
    "      print(f\"Warning: {counts} counts in energy bin {(energyBinMin, energyBinMax)} are below the required minimum of {minCounts}. Skipping bin.\")\n",
    "\n",
    "  return MM2Hists"
   ]
  },
  {
   "cell_type": "code",
   "execution_count": null,
   "id": "0d55eb03",
   "metadata": {},
   "outputs": [],
   "source": [
    "MM2HistsEBins = {case : getMissingMassSquaredBeamEnergyBins(MM2vsBeamEnergyHist) for (case, MM2vsBeamEnergyHist) in MM2vsBeamEnergyHists.items()}"
   ]
  },
  {
   "cell_type": "code",
   "execution_count": null,
   "id": "increasing-armenia",
   "metadata": {},
   "outputs": [],
   "source": [
    "def fitMissingMassSquaredBeamEnergyBins(MM2HistsEBins, particle, forceCommonGaussianMean = False):  # dictionary of dictionaries {case : {energy bin : histogram, ...}, ...}\n",
    "  fitResults = {}\n",
    "  for case, MM2Hists in MM2HistsEBins.items():\n",
    "    fitResults[case] = {}\n",
    "    for energyBin, MM2Hist in MM2Hists.items():\n",
    "      # fit distribution\n",
    "      print(f\"Fitting case {case} for beam energy bin {energyBin} GeV\")\n",
    "      fitResults[case][energyBin] = fitMissingMassSquared(MM2Hist, particle, forceCommonGaussianMean = forceCommonGaussianMean)\n",
    "\n",
    "  return fitResults"
   ]
  },
  {
   "cell_type": "code",
   "execution_count": null,
   "id": "b1297606",
   "metadata": {},
   "outputs": [],
   "source": [
    "fitResultsEBins = fitMissingMassSquaredBeamEnergyBins(MM2HistsEBins, particle, forceCommonGaussianMean = True)"
   ]
  },
  {
   "cell_type": "markdown",
   "id": "d8338521",
   "metadata": {},
   "source": [
    "### Check whether fits converged"
   ]
  },
  {
   "cell_type": "code",
   "execution_count": null,
   "id": "edc009a6",
   "metadata": {},
   "outputs": [],
   "source": [
    "for case, fitResults in fitResultsEBins.items():\n",
    "  for energyBin, fitResult in fitResults.items():\n",
    "    print(\n",
    "      f\"case {case}, \"\n",
    "      f\"energy bin {energyBin} GeV: \"\n",
    "      f\"minimizer status = {fitResult.Status()}, \"\n",
    "      f\"fit result is valid = {fitResult.IsValid()}, \"\n",
    "      f\"covariance matrix status = {COV_MATRIX_STATUS_CODE[fitResult.CovMatrixStatus()]}\"\n",
    "    )"
   ]
  },
  {
   "cell_type": "markdown",
   "id": "75970e95",
   "metadata": {},
   "source": [
    "### Show fits"
   ]
  },
  {
   "cell_type": "code",
   "execution_count": null,
   "id": "adbd3058",
   "metadata": {},
   "outputs": [],
   "source": [
    "canvsEBins = {}\n",
    "for case, MM2Hists in MM2HistsEBins.items():\n",
    "  canvsEBins[case] = {}\n",
    "  for energyBin, MM2Hist in MM2Hists.items():\n",
    "    canvsEBins[case][energyBin] = ROOT.TCanvas(f\"canv_{case}_{energyBin[0]}_{energyBin[1]}\", \"\", 800, 600)\n",
    "    MM2Hist.Draw()\n",
    "    canvsEBins[case][energyBin].Draw()"
   ]
  },
  {
   "cell_type": "markdown",
   "id": "5a80c2df",
   "metadata": {},
   "source": [
    "### Calculate and plot efficiencies"
   ]
  },
  {
   "cell_type": "code",
   "execution_count": null,
   "id": "ba89e35f",
   "metadata": {},
   "outputs": [],
   "source": [
    "efficienciesEBins = {}\n",
    "for energyBin in fitResultsEBins[\"Total\"].keys():\n",
    "  cases = fitResultsEBins.keys()\n",
    "  fitResults = {case : fitResultsEBins[case][energyBin] for case in cases}\n",
    "  efficienciesEBins[energyBin] = calculateEfficiency(fitResults)\n",
    "for energyBin, efficiency in efficienciesEBins.items():\n",
    "  print(f\"Efficiency in energy bin {energyBin} GeV = {100 * efficiency}%\")"
   ]
  },
  {
   "cell_type": "code",
   "execution_count": null,
   "id": "904682c8",
   "metadata": {},
   "outputs": [],
   "source": [
    "graphVals = [(0.5 * (energyBin[0] + energyBin[1]), efficiency) for (energyBin, efficiency) in efficienciesEBins.items()]\n",
    "xVals = array.array('d', [graphVal[0] for graphVal in graphVals])\n",
    "yVals = array.array('d', [graphVal[1] for graphVal in graphVals])\n",
    "print(xVals, yVals)\n",
    "efficienciesEBinsGraph = ROOT.TGraph(len(graphVals), xVals, yVals)\n",
    "efficienciesEBinsGraph.SetTitle(\"\")\n",
    "efficienciesEBinsGraph.GetXaxis().SetTitle(\"Beam Energy (GeV)\")\n",
    "efficienciesEBinsGraph.GetYaxis().SetTitle(\"Efficiency\")\n",
    "canvEff = ROOT.TCanvas(\"canvEff\", \"\", 800, 600)\n",
    "efficienciesEBinsGraph.Draw(\"AP*\")\n",
    "canvEff.Draw()"
   ]
  },
  {
   "cell_type": "markdown",
   "id": "f6359c22",
   "metadata": {},
   "source": [
    "# Scratchpad"
   ]
  },
  {
   "cell_type": "code",
   "execution_count": null,
   "id": "1e347814",
   "metadata": {},
   "outputs": [],
   "source": [
    "# see https://root-forum.cern.ch/t/syntax-of-a-free-function-or-c-functor-for-tgraph-fitting/22292/3\n",
    "# and https://root.cern/manual/python/#just-in-time-compilation-of-small-strings\n",
    "ROOT.gInterpreter.ProcessLine('''\n",
    "struct MyFunction {\n",
    "  MyFunction() { }\n",
    "\n",
    "  double operator() (double* vars, double* pars)\n",
    "  {\n",
    "    const double x  = vars[0];\n",
    "    const double p0 = pars[0];\n",
    "    const double p1 = pars[1];\n",
    "    const double p2 = pars[2];\n",
    "\n",
    "    const double linTerm = p1 + p2 * x;\n",
    "    return p0 * p0 + linTerm * linTerm;\n",
    "  }\n",
    "};\n",
    "''')\n",
    "myFunc = ROOT.MyFunction()\n",
    "func = ROOT.TF1(\"func\", myFunc, -1, 1, 3)\n",
    "# make function visible in Cling's global scope so it can be used in TFormula\n",
    "# see https://root-forum.cern.ch/t/advanced-tformula-and-tf1-usage/36643/2\n",
    "ROOT.gInterpreter.ProcessLine(\"TF1& func = *((TF1*)gROOT->GetFunction(\\\"func\\\"))\")\n",
    "#!!! parameter setting in TFormula expression does not work\n",
    "fooFunc = ROOT.TF1(\"fooFunc\", \"func(x)\", -1, 1, 3)\n",
    "fooFunc.SetParameter(0, -1)\n",
    "fooFunc.SetParameter(1, -2)\n",
    "fooFunc.SetParameter(2, -3)\n",
    "# fooFunc = ROOT.TF1(\"fooFunc\", \"func(x, [2..4])\", -1, 1, 5)\n",
    "# fooFunc.SetParameter(0, 10)\n",
    "# fooFunc.SetParameter(1, -5)\n",
    "# fooFunc.SetParameter(2, -1)\n",
    "# fooFunc.SetParameter(3, -2)\n",
    "# fooFunc.SetParameter(4, -3)\n",
    "# canv = ROOT.TCanvas(\"canv\", \"\", 800, 600)\n",
    "fooFunc.Draw()\n",
    "canv.Draw()"
   ]
  },
  {
   "cell_type": "code",
   "execution_count": null,
   "id": "d927d52d",
   "metadata": {},
   "outputs": [],
   "source": []
  }
 ],
 "metadata": {
  "kernelspec": {
   "display_name": "Python 3.6.8 64-bit",
   "language": "python",
   "name": "python3"
  },
  "language_info": {
   "codemirror_mode": {
    "name": "ipython",
    "version": 3
   },
   "file_extension": ".py",
   "mimetype": "text/x-python",
   "name": "python",
   "nbconvert_exporter": "python",
   "pygments_lexer": "ipython3",
   "version": "3.6.8"
  },
  "vscode": {
   "interpreter": {
    "hash": "31f2aee4e71d21fbe5cf8b01ff0e069b9275f58929596ceb00d14d90e3e16cd6"
   }
  }
 },
 "nbformat": 4,
 "nbformat_minor": 5
}
