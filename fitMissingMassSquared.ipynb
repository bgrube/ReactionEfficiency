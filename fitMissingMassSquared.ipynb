{
 "cells": [
  {
   "cell_type": "markdown",
   "id": "toxic-spell",
   "metadata": {},
   "source": [
    "# Fit missing-mass squared distributions"
   ]
  },
  {
   "cell_type": "code",
   "execution_count": null,
   "id": "entitled-outdoors",
   "metadata": {},
   "outputs": [],
   "source": [
    "# on ifarm, use Python 3.6.8\n",
    "import array\n",
    "\n",
    "import numpy as np\n",
    "import ROOT\n",
    "from pathvalidate import sanitize_filename, sanitize_filepath\n",
    "from uncertainties import ufloat\n",
    "from uncertainties import umath\n",
    "\n",
    "import fitFunction  # defines fit function: double Gaussian on top of a 2nd-order polynomial\n",
    "import makePlots    # defines helper functions to generate histograms from data trees\n",
    "\n",
    "makePlots.setupPlotStyle()"
   ]
  },
  {
   "attachments": {},
   "cell_type": "markdown",
   "id": "dcaf9475",
   "metadata": {},
   "source": [
    "## Define parameters and load input data"
   ]
  },
  {
   "cell_type": "code",
   "execution_count": null,
   "id": "injured-section",
   "metadata": {},
   "outputs": [],
   "source": [
    "# selection         = \"paul\"\n",
    "selection         = \"justin\"\n",
    "# particle          = \"Pi-\"\n",
    "# particle          = \"Pi+\"\n",
    "particle          = \"Proton\"\n",
    "# channel           = \"2pi\"\n",
    "channel           = \"4pi\"\n",
    "# dataset           = \"030730\"\n",
    "dataset           = \"bggen_2017_01-ver03\"\n",
    "# if selection == \"paul\":\n",
    "#   inFileName = f\"../pmatt/trackeff_{particle}_{channel}{f'.{dataset}' if dataset != '' else ''}.root\"\n",
    "# elif selection == \"justin\":\n",
    "#   inFileName = f\"../ReactionEfficiency/pippippimpimpmiss_bggen_2017_01-ver03.root\"\n",
    "# else:\n",
    "#   raise ValueError(f\"Unknown selection '{selection}'\")\n",
    "treeFileName      = f\"../ReactionEfficiency/pippippimpimpmiss_flatTree.{dataset}.root\"\n",
    "treeName          = \"pippippimpimpmiss\"\n",
    "#TODO check uncertainty for weighted histograms\n",
    "\n",
    "trackFoundCondition = makePlots.UNUSED_TRACK_FOUND_CONDITION\n",
    "\n",
    "additionalFilter  = None\n",
    "pdfFileNameSuffix = \"\"\n",
    "# additionalFilter  = '(ThrownTopology.GetString() == \"2#pi^{#plus}2#pi^{#minus}p\")'\n",
    "# pdfFileNameSuffix = \"__sig\"\n",
    "# additionalFilter  = '(ThrownTopology.GetString() == \"2#gamma2#pi^{#plus}2#pi^{#minus}p[#pi^{0}]\")'\n",
    "# pdfFileNameSuffix = \"__2#gamma2#pi^{#plus}2#pi^{#minus}p[#pi^{0}]\"\n",
    "# additionalFilter  = '(ThrownTopology.GetString() != \"2#pi^{#plus}2#pi^{#minus}p\")'\n",
    "# pdfFileNameSuffix = \"__bkg\"\n",
    "# additionalFilter  = \"(NmbUnusedShowers == 0)\"\n",
    "# pdfFileNameSuffix = \"__noUnusedShowers\"\n",
    "\n",
    "mm2HistDef        = {\n",
    "  \"variables\"      : (\"MissingMassSquared_Measured\",),\n",
    "  \"axisTitles\"     : \"(#it{m}^{miss}_{measured})^{2} (GeV/c^{2})^{2}\",\n",
    "  # \"binning\"        : (125, -0.5, 4.5),\n",
    "  \"binning\"        : (100, -0.5, 4.0),\n",
    "  \"weightVariable\" : \"AccidWeightFactor\",\n",
    "}\n",
    "mm2FitRange       = (-0.5, 4.0)  # [(GeV/c)^2]\n",
    "\n",
    "# define equidistant 1D kinematic binning\n",
    "kinematicBinning  = {  # beam energy\n",
    "  \"variable\" : \"BeamEnergy\", \"label\" : \"Beam Energy\", \"unit\" : \"GeV\",\n",
    "  \"nmbBins\" : 9, \"range\" : (3.0, 12.0)\n",
    "}\n",
    "# kinematicBinning  = {  # momentum of missing proton\n",
    "#   \"variable\" : \"MissingProtonP\", \"label\" : \"#it{p}^{miss}_{kin. fit}\", \"unit\" : \"GeV/c\",\n",
    "#   \"nmbBins\" : 10, \"range\" : (0, 3.5)\n",
    "# }\n",
    "# kinematicBinning  = {  # polar angle of missing proton\n",
    "#   \"variable\" : \"MissingProtonTheta\", \"label\" : \"#it{#theta}^{miss}_{kin. fit}\", \"unit\" : \"deg\",\n",
    "#   \"nmbBins\" : 13, \"range\" : (0, 65)\n",
    "# }\n",
    "# kinematicBinning  = {  # azimuthal angle of missing proton\n",
    "#   \"variable\" : \"MissingProtonPhi\", \"label\" : \"#it{#phi}^{miss}_{kin. fit}\", \"unit\" : \"deg\",\n",
    "#   \"nmbBins\" : 10, \"range\" : (-180, +180)\n",
    "# }\n",
    "useNarrowGaussian = False\n",
    "markerSize        = 0.75\n",
    "\n",
    "ROOT.EnableImplicitMT()   # activate implicit multi-threading for RDataFrame\n",
    "inputData = ROOT.RDataFrame(treeName, treeFileName).Define(\"TrackFound\", trackFoundCondition)\n",
    "ROOT.DisableImplicitMT()  # NOTE! enabling multithreading via ROOT.EnableImplicitMT() sends Minuit into an infinite loop (on ROOT 6.24/04 (ifarm) and 6.26/10)"
   ]
  },
  {
   "cell_type": "markdown",
   "id": "79958b46",
   "metadata": {},
   "source": [
    "## Tracking efficiency from overall missing-mass squared distributions"
   ]
  },
  {
   "cell_type": "markdown",
   "id": "realistic-white",
   "metadata": {},
   "source": [
    "### Get overall missing-mass squared distributions by projecting the 2D histograms and adjust binning"
   ]
  },
  {
   "cell_type": "code",
   "execution_count": null,
   "id": "intelligent-behavior",
   "metadata": {},
   "outputs": [],
   "source": [
    "ROOT.EnableImplicitMT()\n",
    "MM2Hists = {}\n",
    "for case, caseFilter in makePlots.FILTER_CASES.items():\n",
    "  caseData = inputData.Filter(caseFilter)\n",
    "  MM2Hists[case] = makePlots.getHistND(caseData, **mm2HistDef, filterExpression = additionalFilter,\n",
    "    histNameSuffix = case, histTitle = f\"{particle} ({channel}) {case}\")\n",
    "canvs = []\n",
    "for case, MM2Hist in MM2Hists.items():\n",
    "  canv = ROOT.TCanvas(sanitize_filename(f\"{selection}_{particle}_{channel}_{dataset}_mm2_{case}{pdfFileNameSuffix}\"), \"\")\n",
    "  MM2Hist.Draw(\"HIST\")\n",
    "  line = ROOT.TLine()\n",
    "  line.SetLineStyle(ROOT.kDashed)\n",
    "  xAxis = MM2Hist.GetXaxis()\n",
    "  line.DrawLine(xAxis.GetBinLowEdge(xAxis.GetFirst()), 0, xAxis.GetBinUpEdge(xAxis.GetLast()), 0)\n",
    "  MM2Hist.SetYTitle(f\"Counts / {MM2Hist.GetBinWidth(1)} (GeV/c^{{2}})^{{2}}\")\n",
    "  canv.Draw()\n",
    "  canv.SaveAs(\".pdf\")\n",
    "  canvs.append(canv)\n",
    "ROOT.DisableImplicitMT()"
   ]
  },
  {
   "attachments": {},
   "cell_type": "markdown",
   "id": "e0d442f2",
   "metadata": {},
   "source": [
    "### Calculate efficiency using integrals of the respective histograms"
   ]
  },
  {
   "cell_type": "code",
   "execution_count": null,
   "id": "18abf2c5",
   "metadata": {},
   "outputs": [],
   "source": [
    "# integrals = {case : hist.Integral(hist.FindBin(mm2FitRange[0]), hist.FindBin(mm2FitRange[1])) for case, hist in MM2Hists.items()}\n",
    "integrals = {case : hist.Integral() for case, hist in MM2Hists.items()}\n",
    "print(f\"Overall efficiency = {100 * integrals['Found'] / (integrals['Found'] + integrals['Missing'])}%\")"
   ]
  },
  {
   "attachments": {},
   "cell_type": "markdown",
   "id": "downtown-hotel",
   "metadata": {},
   "source": [
    "### Fit missing-mass squared distributions for the 3 cases"
   ]
  },
  {
   "cell_type": "code",
   "execution_count": null,
   "id": "sophisticated-lodging",
   "metadata": {},
   "outputs": [],
   "source": [
    "fitResults = {case : fitFunction.fitDistribution(MM2Hist, particle, mm2FitRange, forceCommonGaussianMean = False) for (case, MM2Hist) in MM2Hists.items()}"
   ]
  },
  {
   "cell_type": "code",
   "execution_count": null,
   "id": "284e75a7",
   "metadata": {},
   "outputs": [],
   "source": [
    "def fitStatusString(fitResult):\n",
    "  return (\n",
    "    f\"minimizer status = {fitResult.Status()}, \"\n",
    "    f\"fit result is valid = {fitResult.IsValid()}, \"\n",
    "    f\"covariance matrix status = {fitFunction.COV_MATRIX_STATUS_CODE[fitResult.CovMatrixStatus()][1]}\"\n",
    "  )"
   ]
  },
  {
   "cell_type": "markdown",
   "id": "ed111642",
   "metadata": {},
   "source": [
    "Show fit result"
   ]
  },
  {
   "cell_type": "code",
   "execution_count": null,
   "id": "645071f9",
   "metadata": {},
   "outputs": [],
   "source": [
    "canvsOverall = {}\n",
    "for case, MM2Hist in MM2Hists.items():\n",
    "  canvsOverall[case] = ROOT.TCanvas(sanitize_filename(f\"{selection}_{particle}_{channel}_{dataset}_mm2_fit_{case}{pdfFileNameSuffix}\"), \"\")\n",
    "  MM2Hist.Draw()\n",
    "  canvsOverall[case].Update()  # needed otherwise TPaveStats object is not created\n",
    "  stats = MM2Hist.FindObject(\"stats\")\n",
    "  stats.SetX1NDC(0.65)\n",
    "  stats.SetX2NDC(0.98)\n",
    "  stats.SetY1NDC(0.3)\n",
    "  stats.SetY2NDC(0.92)\n",
    "  canvsOverall[case].Draw()\n",
    "  canvsOverall[case].SaveAs(\".pdf\")\n",
    "for case, fitResult in fitResults.items():\n",
    "  print(f\"{case}: {fitStatusString(fitResult)}\")"
   ]
  },
  {
   "cell_type": "markdown",
   "id": "010da461",
   "metadata": {},
   "source": [
    "### Get overall signal yields and calculate average efficiency"
   ]
  },
  {
   "cell_type": "code",
   "execution_count": null,
   "id": "e8a2cdd6",
   "metadata": {},
   "outputs": [],
   "source": [
    "def getFitParameter(fitResult, parName):\n",
    "  parIndex = fitResult.Index(parName)\n",
    "  return ufloat(fitResult.Parameter(parIndex), fitResult.ParError(parIndex))"
   ]
  },
  {
   "cell_type": "code",
   "execution_count": null,
   "id": "d0959e24",
   "metadata": {},
   "outputs": [],
   "source": [
    "def getSignalYield(fitResult, useNarrowGaussian = False):\n",
    "  if useNarrowGaussian:\n",
    "    A      = getFitParameter(fitResult, \"A\")\n",
    "    rHat   = getFitParameter(fitResult, \"#hat{r}\")\n",
    "    sigma1 = getFitParameter(fitResult, \"#sigma_{1}\")\n",
    "    sigma2 = getFitParameter(fitResult, \"#sigma_{2}\")\n",
    "    ratio  = umath.sin(rHat)**2\n",
    "    # print(\"!!!\", ratio)\n",
    "    if sigma1.nominal_value < sigma2.nominal_value:\n",
    "      # Gaussian 1 is the narrow one\n",
    "      return A * (1 - ratio)\n",
    "    else:\n",
    "      # Gaussian 2 is the narrow one\n",
    "      return A * ratio\n",
    "  else:\n",
    "    return getFitParameter(fitResult, \"A\")\n",
    "# getSignalYield(fitResults[\"Total\"], True)"
   ]
  },
  {
   "cell_type": "code",
   "execution_count": null,
   "id": "e09611aa",
   "metadata": {},
   "outputs": [],
   "source": [
    "def calculateEfficiency(fitResults, useNarrowGaussian = False):  # dictionary with TFitResults for \"Total\", \"Found\", and \"Missing\"\n",
    "  signalYields = {case : getSignalYield(fitResult, useNarrowGaussian) for (case, fitResult) in fitResults.items()}\n",
    "  return signalYields[\"Found\"] / (signalYields[\"Found\"] + signalYields[\"Missing\"])"
   ]
  },
  {
   "cell_type": "code",
   "execution_count": null,
   "id": "75037503",
   "metadata": {},
   "outputs": [],
   "source": [
    "signalYields = {case : getSignalYield(fitResult) for (case, fitResult) in fitResults.items()}\n",
    "#TODO one could perform a combined fit of all 3 histograms enforcing Found + Missing == Total\n",
    "print(signalYields, f\"mismatch = {100 * (signalYields['Total'] - signalYields['Found'] - signalYields['Missing']) / signalYields['Total']}%\")\n",
    "overallEff = calculateEfficiency(fitResults)\n",
    "print(f\"both Gaussians: overall efficiency = {100 * overallEff}%\")\n",
    "signalYieldsNarrow = {case : getSignalYield(fitResult, useNarrowGaussian = True) for (case, fitResult) in fitResults.items()}\n",
    "print(signalYieldsNarrow, f\"mismatch = {100 * (signalYieldsNarrow['Total'] - signalYieldsNarrow['Found'] - signalYieldsNarrow['Missing']) / signalYieldsNarrow['Total']}%\")\n",
    "overallEffNarrow = calculateEfficiency(fitResults, useNarrowGaussian = True)\n",
    "print(f\"narrow Gaussian: overall efficiency = {100 * overallEffNarrow}%\")"
   ]
  },
  {
   "attachments": {},
   "cell_type": "markdown",
   "id": "16e2cbfb",
   "metadata": {},
   "source": [
    "## Tracking efficiencies as a function of the given kinematic variable from missing-mass squared distributions"
   ]
  },
  {
   "attachments": {},
   "cell_type": "markdown",
   "id": "limited-danger",
   "metadata": {},
   "source": [
    "### Fit missing-mass squared distributions in bins of the given kinematic variable"
   ]
  },
  {
   "cell_type": "code",
   "execution_count": null,
   "id": "0d55eb03",
   "metadata": {},
   "outputs": [],
   "source": [
    "# generates histograms from tree and returns dictionary of dictionaries {case : {kinematic bin : histogram, ...}, ...}\n",
    "#TODO complete interface\n",
    "def getHistsKinematicBins1D(\n",
    "  kinematicBinning,  # dict with binning definition\n",
    "  minCounts = 100   # minimum number of counts required in kinematic bin\n",
    "):\n",
    "  ROOT.EnableImplicitMT()\n",
    "  MM2HistsKinBins = {}\n",
    "  kinBinVariable = kinematicBinning[\"variable\"]\n",
    "  nmbKinBins     = kinematicBinning[\"nmbBins\"]\n",
    "  kinBinRange    = kinematicBinning[\"range\"]\n",
    "  kinBinWidth    = (kinBinRange[1] - kinBinRange[0]) / float(nmbKinBins)\n",
    "  for case, caseFilter in makePlots.FILTER_CASES.items():\n",
    "    caseData = inputData.Filter(caseFilter)\n",
    "    MM2HistsKinBins[case] = {}\n",
    "    for kinBinIndex in range(nmbKinBins):\n",
    "      kinBinMin = kinBinRange[0] + kinBinIndex * kinBinWidth\n",
    "      kinBinMax = kinBinMin + kinBinWidth\n",
    "      kinBinFilter = f\"(({kinBinMin} < {kinBinVariable}) and ({kinBinVariable} < {kinBinMax}))\"\n",
    "      kinBinData = caseData.Filter(kinBinFilter)\n",
    "      MM2Hist = makePlots.getHistND(kinBinData, **mm2HistDef, filterExpression = additionalFilter,\n",
    "        histNameSuffix = f\"{kinBinVariable}_{kinBinMin}_{kinBinMax}_{case}\",\n",
    "        histTitle = f\"{particle} ({channel}) {case}, {kinBinMin} < {kinBinVariable} < {kinBinMax} {kinematicBinning['unit']}\")\n",
    "      MM2Hist.Draw()\n",
    "      MM2Hist.SetYTitle(f\"Counts / {MM2Hist.GetBinWidth(1)} (GeV/c^{{2}})^{{2}}\")\n",
    "      counts = MM2Hist.Integral(1, MM2Hist.GetNbinsX())\n",
    "      if counts >= minCounts:\n",
    "        MM2HistsKinBins[case][(kinBinVariable, kinBinMin, kinBinMax)] = MM2Hist\n",
    "      else:\n",
    "        print(f\"Warning: {counts} counts in kinematic bin {kinBinMin} < {kinBinVariable} < {kinBinMax} {kinematicBinning['unit']} for {case} case are below the required minimum of {minCounts}. Skipping bin.\")\n",
    "  ROOT.DisableImplicitMT()\n",
    "  return MM2HistsKinBins"
   ]
  },
  {
   "cell_type": "code",
   "execution_count": null,
   "id": "9f906927",
   "metadata": {},
   "outputs": [],
   "source": [
    "MM2HistsKinBins = getHistsKinematicBins1D(kinematicBinning)"
   ]
  },
  {
   "cell_type": "code",
   "execution_count": null,
   "id": "increasing-armenia",
   "metadata": {},
   "outputs": [],
   "source": [
    "def fitMissingMassSquaredKinematicBins1D(\n",
    "  MM2HistsKinBins,  # dictionary of dictionaries {case : {kinematic bin : histogram, ...}, ...}\n",
    "  **kwargs\n",
    "):\n",
    "  fitResults = {}\n",
    "  for case, MM2Hists in MM2HistsKinBins.items():\n",
    "    fitResults[case] = {}\n",
    "    for kinBin, MM2Hist in MM2Hists.items():\n",
    "      # fit distribution\n",
    "      print(f\"Fitting case {case} for kinematic bin {kinBin[1]} < {kinBin[0]} < {kinBin[2]} {kinematicBinning['unit']}\")\n",
    "      fitResults[case][kinBin] = fitFunction.fitDistribution(MM2Hist, **kwargs)\n",
    "\n",
    "  return fitResults"
   ]
  },
  {
   "cell_type": "code",
   "execution_count": null,
   "id": "b1297606",
   "metadata": {},
   "outputs": [],
   "source": [
    "fitResultsKinBins = fitMissingMassSquaredKinematicBins1D(MM2HistsKinBins, particle = particle, fitRange = mm2FitRange, forceCommonGaussianMean = True)"
   ]
  },
  {
   "cell_type": "markdown",
   "id": "d8338521",
   "metadata": {},
   "source": [
    "### Check whether fits converged"
   ]
  },
  {
   "cell_type": "code",
   "execution_count": null,
   "id": "edc009a6",
   "metadata": {},
   "outputs": [],
   "source": [
    "for case, fitResults in fitResultsKinBins.items():\n",
    "  for kinBin, fitResult in fitResults.items():\n",
    "    print(f\"case {case}, kinematic bin {kinBin[1]} < {kinBin[0]} < {kinBin[2]} {kinematicBinning['unit']}: {fitStatusString(fitResult)}\")"
   ]
  },
  {
   "cell_type": "markdown",
   "id": "75970e95",
   "metadata": {},
   "source": [
    "### Show fits"
   ]
  },
  {
   "cell_type": "code",
   "execution_count": null,
   "id": "adbd3058",
   "metadata": {},
   "outputs": [],
   "source": [
    "canvsKinBins = {}\n",
    "for case, MM2Hists in MM2HistsKinBins.items():\n",
    "  canvsKinBins[case] = {}\n",
    "  for kinBin, MM2Hist in MM2Hists.items():\n",
    "    canvsKinBins[case][kinBin] = ROOT.TCanvas(sanitize_filename(f\"{selection}_{particle}_{channel}_{dataset}_mm2_{kinBin[0]}_{kinBin[1]}_{kinBin[2]}_fit_{case}{pdfFileNameSuffix}\"), \"\")\n",
    "    MM2Hist.SetMinimum(0)\n",
    "    MM2Hist.Draw()\n",
    "    canvsKinBins[case][kinBin].Update()  # needed otherwise TPaveStats object is not created\n",
    "    stats = MM2Hist.FindObject(\"stats\")\n",
    "    stats.SetX1NDC(0.58)\n",
    "    stats.SetX2NDC(0.98)\n",
    "    stats.SetY1NDC(0.28)\n",
    "    stats.SetY2NDC(0.93)\n",
    "    canvsKinBins[case][kinBin].Draw()\n",
    "    canvsKinBins[case][kinBin].SaveAs(\".pdf\")"
   ]
  },
  {
   "cell_type": "markdown",
   "id": "797d3736",
   "metadata": {},
   "source": [
    "### Plot fit parameters"
   ]
  },
  {
   "cell_type": "markdown",
   "id": "0693aae8",
   "metadata": {},
   "source": [
    "Get values of fit parameters"
   ]
  },
  {
   "cell_type": "code",
   "execution_count": null,
   "id": "416876fb",
   "metadata": {},
   "outputs": [],
   "source": [
    "fitParValues = {}  # {case : {parameter name : [ [kinematic bin center, parameter value] ...] ...} ...}\n",
    "for case in fitResultsKinBins.keys():\n",
    "  fitParValues[case] = {}\n",
    "  for kinBin, fitResult in fitResultsKinBins[case].items():\n",
    "    kinBinCenter = (kinBin[1] + kinBin[2]) / 2\n",
    "    for parIndex in range(fitResult.NTotalParameters()):\n",
    "      parName = fitResult.ParName(parIndex)\n",
    "      parValue = getFitParameter(fitResult, parName)\n",
    "      if not parName in fitParValues[case]:\n",
    "        fitParValues[case][parName] = []\n",
    "      fitParValues[case][parName].append([kinBinCenter, parValue])\n",
    "    parName  = \"#chi^{2}/ndf\"\n",
    "    parValue = ufloat(fitResult.Chi2() / fitResult.Ndf(), 0)\n",
    "    if not parName in fitParValues[case]:\n",
    "      fitParValues[case][parName] = []\n",
    "    fitParValues[case][parName].append([kinBinCenter, parValue])\n",
    "# print(fitParValues)"
   ]
  },
  {
   "cell_type": "markdown",
   "id": "abaf7e4a",
   "metadata": {},
   "source": [
    "Postprocess fit-parameter values"
   ]
  },
  {
   "cell_type": "code",
   "execution_count": null,
   "id": "50c5918d",
   "metadata": {},
   "outputs": [],
   "source": [
    "for case in fitParValues.keys():\n",
    "  for kinBinIndex, rHat in enumerate(fitParValues[case][\"#hat{r}\"]):  # fitParValues[case][parameter name][kinematic bin index][0 = kinematic bin center; 1 = parameter value]\n",
    "    # calculate Gaussian 2 fraction\n",
    "    ratio = umath.sin(rHat[1])**2\n",
    "    # make sure sigma_1 is the narrow Gaussian\n",
    "    sigma1 = fitParValues[case][\"#sigma_{1}\"][kinBinIndex][1]\n",
    "    sigma2 = fitParValues[case][\"#sigma_{2}\"][kinBinIndex][1]\n",
    "    if sigma1 > sigma2:\n",
    "      # print(\"!!!swap\")\n",
    "      # swap values\n",
    "      fitParValues[case][\"#sigma_{1}\"][kinBinIndex][1] = sigma2\n",
    "      fitParValues[case][\"#sigma_{2}\"][kinBinIndex][1] = sigma1\n",
    "      #TODO add case for separate mean values\n",
    "      ratio = 1 - ratio\n",
    "    # print(kinBinIndex, ratio)\n",
    "    fitParValues[case][\"#hat{r}\"][kinBinIndex][1] = ratio\n",
    "# print(fitParValues)"
   ]
  },
  {
   "cell_type": "markdown",
   "id": "40f4b65b",
   "metadata": {},
   "source": [
    "Plot fit-parameter values"
   ]
  },
  {
   "cell_type": "code",
   "execution_count": null,
   "id": "e498fcb5",
   "metadata": {},
   "outputs": [],
   "source": [
    "caseColors = {\n",
    "  \"Total\"   : ROOT.kBlack,\n",
    "  \"Found\"   : ROOT.kGreen + 2,\n",
    "  \"Missing\" : ROOT.kRed + 1}\n",
    "kinVarOffsets = {  #TODO set these according to bin range\n",
    "  \"Total\"   : 0,\n",
    "  \"Found\"   : 0.1,\n",
    "  \"Missing\" : 0.05}\n",
    "canvsFitPar = []\n",
    "parValueMultiGraphs = []\n",
    "parValueGraphs = []\n",
    "for parName in fitParValues[\"Total\"].keys():\n",
    "  canvsFitPar.append(ROOT.TCanvas(sanitize_filename(f\"{selection}_{particle}_{channel}_{dataset}_mm2_fitpar_{parName}_{kinematicBinning['variable']}{pdfFileNameSuffix}\"), \"\"))\n",
    "  parValueMultiGraphs.append(ROOT.TMultiGraph())\n",
    "  parValueGraphs.append({})\n",
    "  for case in fitParValues.keys():\n",
    "    parValues = fitParValues[case][parName]\n",
    "    xVals = array.array('d', [kinVal + kinVarOffsets[case] for kinVal, _ in parValues])\n",
    "    yVals = array.array('d', [parValue.nominal_value for _, parValue in parValues])\n",
    "    yErrs = array.array('d', [parValue.std_dev       for _, parValue in parValues])\n",
    "    parValueGraphs[-1][case] = ROOT.TGraphErrors(len(xVals), xVals, yVals, ROOT.nullptr, yErrs)\n",
    "    graph = parValueGraphs[-1][case]\n",
    "    graph.SetTitle(case)\n",
    "    graph.SetMarkerStyle(ROOT.kFullCircle)\n",
    "    graph.SetMarkerSize(markerSize)\n",
    "    graph.SetMarkerColor(caseColors[case])\n",
    "    graph.SetLineColor(caseColors[case])\n",
    "    parValueMultiGraphs[-1].Add(graph)\n",
    "  parValueMultiGraph = parValueMultiGraphs[-1]\n",
    "  parValueMultiGraph.SetTitle(f\"{particle} ({channel})\")\n",
    "  parValueMultiGraph.GetXaxis().SetTitle(f\"{kinematicBinning['label']} ({kinematicBinning['unit']})\")\n",
    "  parValueMultiGraph.GetYaxis().SetTitle(parName if parName != \"#hat{r}\" else \"Fraction Wide Gaussian\")\n",
    "  parValueMultiGraph.Draw(\"APZ\")\n",
    "  canvsFitPar[-1].BuildLegend()  # crashes for unknown reason\n",
    "  if parName == \"#mu\":\n",
    "    parValueMultiGraph.SetMinimum(0.86)\n",
    "    parValueMultiGraph.SetMaximum(1.11)\n",
    "    # indicate nominal value m_p^2 value\n",
    "    line = ROOT.TLine()\n",
    "    line.SetLineStyle(ROOT.kDashed)\n",
    "    protonMassSq = 0.93827208816**2\n",
    "    line.DrawLine(parValueMultiGraph.GetXaxis().GetXmin(), protonMassSq, parValueMultiGraph.GetXaxis().GetXmax(), protonMassSq)\n",
    "  if parName == \"#chi^{2}/ndf\":\n",
    "    parValueMultiGraph.SetMinimum(0)\n",
    "    parValueMultiGraph.SetMaximum(10)\n",
    "    # indicate nominal value\n",
    "    line = ROOT.TLine()\n",
    "    line.SetLineStyle(ROOT.kDashed)\n",
    "    line.DrawLine(parValueMultiGraph.GetXaxis().GetXmin(), 1, parValueMultiGraph.GetXaxis().GetXmax(), 1)\n",
    "  canvsFitPar[-1].Draw()\n",
    "  canvsFitPar[-1].SaveAs(\".pdf\")"
   ]
  },
  {
   "cell_type": "markdown",
   "id": "5a80c2df",
   "metadata": {},
   "source": [
    "### Calculate and plot efficiencies"
   ]
  },
  {
   "cell_type": "code",
   "execution_count": null,
   "id": "ba89e35f",
   "metadata": {},
   "outputs": [],
   "source": [
    "efficienciesKinBins = {}\n",
    "for kinBin in fitResultsKinBins[\"Total\"].keys():\n",
    "  fitResults = {case : fitResultsKinBins[case][kinBin] for case in fitResultsKinBins.keys()}\n",
    "  efficienciesKinBins[kinBin] = calculateEfficiency(fitResults, useNarrowGaussian)\n",
    "for kinBin, efficiency in efficienciesKinBins.items():\n",
    "  print(f\"Efficiency in kinematic bin {kinBin[1]} < {kinBin[0]} < {kinBin[2]} {kinematicBinning['unit']} = {100 * efficiency}%\")"
   ]
  },
  {
   "cell_type": "code",
   "execution_count": null,
   "id": "904682c8",
   "metadata": {},
   "outputs": [],
   "source": [
    "\n",
    "graphVals = [((kinBin[1] + kinBin[2]) / 2, efficiency) for (kinBin, efficiency) in efficienciesKinBins.items()]\n",
    "xVals = array.array('d', [graphVal[0]               for graphVal in graphVals])\n",
    "yVals = array.array('d', [graphVal[1].nominal_value for graphVal in graphVals])\n",
    "yErrs = array.array('d', [graphVal[1].std_dev       for graphVal in graphVals])\n",
    "# print(xVals, yVals, yErrs)\n",
    "efficienciesKinBinsGraph = ROOT.TGraphErrors(len(graphVals), xVals, yVals, ROOT.nullptr, yErrs)\n",
    "efficienciesKinBinsGraph.SetTitle(f\"{particle} Track-Finding Efficiency ({channel})\")\n",
    "efficienciesKinBinsGraph.SetMarkerStyle(ROOT.kFullCircle)\n",
    "efficienciesKinBinsGraph.SetMarkerSize(markerSize)\n",
    "efficienciesKinBinsGraph.GetXaxis().SetTitle(f\"{kinematicBinning['label']} ({kinematicBinning['unit']})\")\n",
    "efficienciesKinBinsGraph.GetYaxis().SetTitle(\"Efficiency\")\n",
    "efficienciesKinBinsGraph.SetMinimum(0)\n",
    "efficienciesKinBinsGraph.SetMaximum(1)\n",
    "canvEff = ROOT.TCanvas(sanitize_filename(f\"{selection}_{particle}_{channel}_{dataset}_mm2_eff_{kinematicBinning['variable']}{pdfFileNameSuffix}\"), \"\")\n",
    "efficienciesKinBinsGraph.Draw(\"AP\")\n",
    "# indicate value from fit of overall distributions\n",
    "line = ROOT.TLine()\n",
    "line.SetLineStyle(ROOT.kDashed)\n",
    "line.DrawLine(efficienciesKinBinsGraph.GetXaxis().GetXmin(), overallEff.nominal_value, efficienciesKinBinsGraph.GetXaxis().GetXmax(), overallEff.nominal_value)\n",
    "# indicate weighted average of efficiencies in kinematic bins\n",
    "meanEff = np.average(yVals, weights = [1 / (yErr**2) for yErr in yErrs])\n",
    "line.SetLineColor(ROOT.kRed + 1)\n",
    "line.DrawLine(efficienciesKinBinsGraph.GetXaxis().GetXmin(), meanEff, efficienciesKinBinsGraph.GetXaxis().GetXmax(), meanEff)\n",
    "canvEff.Draw()\n",
    "canvEff.SaveAs(\".pdf\")"
   ]
  },
  {
   "cell_type": "markdown",
   "id": "f6359c22",
   "metadata": {},
   "source": [
    "# Scratchpad"
   ]
  },
  {
   "cell_type": "code",
   "execution_count": null,
   "id": "1e347814",
   "metadata": {},
   "outputs": [],
   "source": [
    "# see https://root-forum.cern.ch/t/syntax-of-a-free-function-or-c-functor-for-tgraph-fitting/22292/3\n",
    "# and https://root.cern/manual/python/#just-in-time-compilation-of-small-strings\n",
    "ROOT.gInterpreter.ProcessLine('''\n",
    "struct MyFunction {\n",
    "  MyFunction() { }\n",
    "\n",
    "  double operator() (double* vars, double* pars)\n",
    "  {\n",
    "    const double x  = vars[0];\n",
    "    const double p0 = pars[0];\n",
    "    const double p1 = pars[1];\n",
    "    const double p2 = pars[2];\n",
    "\n",
    "    const double linTerm = p1 + p2 * x;\n",
    "    return p0 * p0 + linTerm * linTerm;\n",
    "  }\n",
    "};\n",
    "''')\n",
    "myFunc = ROOT.MyFunction()\n",
    "func = ROOT.TF1(\"func\", myFunc, -1, 1, 3)\n",
    "# make function visible in Cling's global scope so it can be used in TFormula\n",
    "# see https://root-forum.cern.ch/t/advanced-tformula-and-tf1-usage/36643/2\n",
    "ROOT.gInterpreter.ProcessLine(\"TF1& func = *((TF1*)gROOT->GetFunction(\\\"func\\\"))\")\n",
    "#!!! parameter setting in TFormula expression does not work\n",
    "fooFunc = ROOT.TF1(\"fooFunc\", \"func(x)\", -1, 1, 3)\n",
    "fooFunc.SetParameter(0, 100000)\n",
    "fooFunc.SetParameter(1, 0)\n",
    "fooFunc.SetParameter(2, 0)\n",
    "print(fooFunc.Eval(1))\n",
    "# fooFunc = ROOT.TF1(\"fooFunc\", \"func(x, [2..4])\", -1, 1, 5)\n",
    "# fooFunc.SetParameter(0, 10)\n",
    "# fooFunc.SetParameter(1, -5)\n",
    "# fooFunc.SetParameter(2, -1)\n",
    "# fooFunc.SetParameter(3, -2)\n",
    "# fooFunc.SetParameter(4, -3)\n",
    "# canv = ROOT.TCanvas(\"canv\", \"\", 800, 600)\n",
    "fooFunc.Draw()\n",
    "canv.Draw()"
   ]
  },
  {
   "cell_type": "code",
   "execution_count": null,
   "id": "2c42f310",
   "metadata": {},
   "outputs": [],
   "source": []
  }
 ],
 "metadata": {
  "kernelspec": {
   "display_name": "Python 3",
   "language": "python",
   "name": "python3"
  },
  "language_info": {
   "codemirror_mode": {
    "name": "ipython",
    "version": 3
   },
   "file_extension": ".py",
   "mimetype": "text/x-python",
   "name": "python",
   "nbconvert_exporter": "python",
   "pygments_lexer": "ipython3",
   "version": "3.6.8"
  },
  "vscode": {
   "interpreter": {
    "hash": "31f2aee4e71d21fbe5cf8b01ff0e069b9275f58929596ceb00d14d90e3e16cd6"
   }
  }
 },
 "nbformat": 4,
 "nbformat_minor": 5
}
