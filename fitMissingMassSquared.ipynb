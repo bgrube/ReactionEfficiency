{
 "cells": [
  {
   "cell_type": "markdown",
   "id": "toxic-spell",
   "metadata": {},
   "source": [
    "# Fit missing-mass squared distributions"
   ]
  },
  {
   "cell_type": "code",
   "execution_count": 1,
   "id": "entitled-outdoors",
   "metadata": {},
   "outputs": [
    {
     "name": "stdout",
     "output_type": "stream",
     "text": [
      "Welcome to JupyROOT 6.26/10\n"
     ]
    },
    {
     "name": "stderr",
     "output_type": "stream",
     "text": [
      "Info in <TMacOSXSystem::ACLiC>: creating shared library /Users/bgrube/GlueX/Analysis/ProtonTrackEfficiency/trackingEfficiency/././doubleGaussianPol2_C.so\n"
     ]
    }
   ],
   "source": [
    "# on ifarm, use Python 3.6.8\n",
    "import array\n",
    "\n",
    "import numpy as np\n",
    "import ROOT\n",
    "from pathvalidate import sanitize_filename, sanitize_filepath\n",
    "from uncertainties import ufloat\n",
    "from uncertainties.umath import *\n",
    "\n",
    "import fitFunction  # defines fit function: double Gaussian on top of a 2nd-order polynomial\n",
    "import makePlots    # defines helper functions to generate histograms from data trees\n",
    "\n",
    "makePlots.setupPlotStyle()"
   ]
  },
  {
   "attachments": {},
   "cell_type": "markdown",
   "id": "dcaf9475",
   "metadata": {},
   "source": [
    "## Define parameters and load input data"
   ]
  },
  {
   "cell_type": "code",
   "execution_count": 2,
   "id": "injured-section",
   "metadata": {},
   "outputs": [],
   "source": [
    "# selection         = \"paul\"\n",
    "selection         = \"justin\"\n",
    "# particle          = \"Pi-\"\n",
    "# particle          = \"Pi+\"\n",
    "particle          = \"Proton\"\n",
    "# channel           = \"2pi\"\n",
    "channel           = \"4pi\"\n",
    "# dataset           = \"30370_acc_Pval\"\n",
    "dataset           = \"bggen_2017_01-ver03\"\n",
    "# if selection == \"paul\":\n",
    "#   inFileName = f\"../pmatt/trackeff_{particle}_{channel}{f'.{dataset}' if dataset != '' else ''}.root\"\n",
    "# elif selection == \"justin\":\n",
    "#   inFileName = f\"../ReactionEfficiency/pippippimpimpmiss_bggen_2017_01-ver03.root\"\n",
    "# else:\n",
    "#   raise ValueError(f\"Unknown selection '{selection}'\")\n",
    "treeFileName      = \"../ReactionEfficiency/pippippimpimpmiss_flatTree_bggen_2017_01-ver03.root\"\n",
    "treeName          = \"pippippimpimpmiss\"\n",
    "\n",
    "additionalFilter  = None\n",
    "pdfFileNameSuffix = \"\"\n",
    "# additionalFilter  = '(ThrownTopology.GetString() == \"2#pi^{#plus}2#pi^{#minus}p\")'\n",
    "# pdfFileNameSuffix = \"__sig\"\n",
    "# additionalFilter  = '(ThrownTopology.GetString() == \"2#gamma2#pi^{#plus}2#pi^{#minus}p[#pi^{0}]\")'\n",
    "# pdfFileNameSuffix = \"__2#gamma2#pi^{#plus}2#pi^{#minus}p[#pi^{0}]\"\n",
    "# additionalFilter  = '(ThrownTopology.GetString() != \"2#pi^{#plus}2#pi^{#minus}p\")'\n",
    "# pdfFileNameSuffix = \"__bkg\"\n",
    "# additionalFilter  = \"(NmbUnusedShowers == 0)\"\n",
    "# pdfFileNameSuffix = \"__noUnusedShowers\"\n",
    "\n",
    "mm2HistDef        = {\n",
    "  \"variables\"      : (\"MissingMassSquared_Measured\",),\n",
    "  \"axisTitles\"     : \"(#it{m}^{miss}_{measured})^{2} (GeV/c^{2})^{2}\",\n",
    "  \"binning\"        : (250, -0.5, 4.5),\n",
    "  \"weightVariable\" : \"AccidWeightFactor\"\n",
    "}\n",
    "fitRange          = (-0.5, 4)\n",
    "beamEnergyRange   = (3.0, 12.0)  # [GeV]\n",
    "nmbBeamEnergyBins = 9            # 1 GeV bin width\n",
    "markerSize        = 0.75\n",
    "\n",
    "ROOT.EnableImplicitMT()   # activate implicit multi-threading for RDataFrame\n",
    "inputData = ROOT.RDataFrame(treeName, treeFileName)\n",
    "ROOT.DisableImplicitMT()  # NOTE! enabling multithreading via ROOT.EnableImplicitMT() sends Minuit into an infinite loop (on ROOT 6.24/04 (ifarm) and 6.26/10)"
   ]
  },
  {
   "cell_type": "markdown",
   "id": "79958b46",
   "metadata": {},
   "source": [
    "## Tracking efficiency from overall missing-mass squared distributions"
   ]
  },
  {
   "cell_type": "markdown",
   "id": "realistic-white",
   "metadata": {},
   "source": [
    "### Get overall missing-mass squared distributions by projecting the 2D histograms and adjust binning"
   ]
  },
  {
   "cell_type": "code",
   "execution_count": 3,
   "id": "intelligent-behavior",
   "metadata": {},
   "outputs": [
    {
     "name": "stderr",
     "output_type": "stream",
     "text": [
      "Info in <TCanvas::Print>: pdf file ./justin_Proton_4pi_bggen_2017_01-ver03_mm2_Total__sig.pdf has been created\n",
      "Info in <TCanvas::Print>: pdf file ./justin_Proton_4pi_bggen_2017_01-ver03_mm2_Found__sig.pdf has been created\n",
      "Info in <TCanvas::Print>: pdf file ./justin_Proton_4pi_bggen_2017_01-ver03_mm2_Missing__sig.pdf has been created\n"
     ]
    },
    {
     "data": {
      "image/png": "[encoded data removed]",
      "text/plain": [
       "<IPython.core.display.Image object>"
      ]
     },
     "metadata": {},
     "output_type": "display_data"
    },
    {
     "data": {
      "image/png": "[encoded data removed]",
      "text/plain": [
       "<IPython.core.display.Image object>"
      ]
     },
     "metadata": {},
     "output_type": "display_data"
    },
    {
     "data": {
      "image/png": "[encoded data removed]",
      "text/plain": [
       "<IPython.core.display.Image object>"
      ]
     },
     "metadata": {},
     "output_type": "display_data"
    }
   ],
   "source": [
    "ROOT.EnableImplicitMT()\n",
    "MM2Hists = {}\n",
    "for case, caseFilter in makePlots.FILTER_CASES.items():\n",
    "  caseData = inputData.Filter(caseFilter)\n",
    "  MM2Hists[case] = makePlots.getHistND(caseData, **mm2HistDef, filterExpression = additionalFilter,\n",
    "    histNameSuffix = case, histTitle = f\"{particle} ({channel}) {case}\")\n",
    "# MM2Hists = {case : inFile.Get(\"MissingMassSquared/MissingMassSquared\" + (\"\" if case == \"Total\" else \"_\" + case)) for case in [\"Total\", \"Found\", \"Missing\"]}\n",
    "# MM2Hists = {case : inFile.Get(\"MissingMassSquared/MissingMassSquared\" + (\"\" if case == \"Total\" else \"_\" + case) + \"__2#pi^{#plus}2#pi^{#minus}p\") for case in [\"Total\", \"Found\", \"Missing\"]}\n",
    "# MM2Hists = {case : inFile.Get(\"MissingMassSquared/MissingMassSquared\" + (\"\" if case == \"Total\" else \"_\" + case) + \"__2#gamma2#pi^{#plus}2#pi^{#minus}p[#pi^{0}]\") for case in [\"Total\", \"Found\", \"Missing\"]}\n",
    "canvs = []\n",
    "for case, MM2Hist in MM2Hists.items():\n",
    "  canv = ROOT.TCanvas(sanitize_filename(f\"{selection}_{particle}_{channel}_{dataset}_mm2_{case}{pdfFileNameSuffix}\"), \"\")\n",
    "  MM2Hist.Draw(\"HIST\")\n",
    "  MM2Hist.SetYTitle(f\"Counts / {MM2Hist.GetBinWidth(1)} (GeV/c^{{2}})^{{2}}\")\n",
    "  canv.Draw()\n",
    "  canv.SaveAs(\".pdf\")\n",
    "  canvs.append(canv)\n",
    "ROOT.DisableImplicitMT()"
   ]
  },
  {
   "cell_type": "markdown",
   "id": "downtown-hotel",
   "metadata": {},
   "source": [
    "### Fit missing-mass squared distributions for the 3 cases"
   ]
  },
  {
   "cell_type": "code",
   "execution_count": 4,
   "id": "sophisticated-lodging",
   "metadata": {},
   "outputs": [
    {
     "name": "stdout",
     "output_type": "stream",
     "text": [
      "Fitting histogram 'MissingMassSquared_Measured_Total', 'Proton (4pi) Total'.\n"
     ]
    },
    {
     "ename": "ReferenceError",
     "evalue": "attempt to access a null-pointer",
     "output_type": "error",
     "traceback": [
      "\u001b[0;31m---------------------------------------------------------------------------\u001b[0m",
      "\u001b[0;31mReferenceError\u001b[0m                            Traceback (most recent call last)",
      "Cell \u001b[0;32mIn[4], line 1\u001b[0m\n\u001b[0;32m----> 1\u001b[0m fitResults \u001b[39m=\u001b[39m {case : fitFunction\u001b[39m.\u001b[39mfitDistribution(MM2Hist, particle, fitRange, forceCommonGaussianMean \u001b[39m=\u001b[39m \u001b[39mFalse\u001b[39;00m) \u001b[39mfor\u001b[39;00m (case, MM2Hist) \u001b[39min\u001b[39;00m MM2Hists\u001b[39m.\u001b[39mitems()}\n",
      "Cell \u001b[0;32mIn[4], line 1\u001b[0m, in \u001b[0;36m<dictcomp>\u001b[0;34m(.0)\u001b[0m\n\u001b[0;32m----> 1\u001b[0m fitResults \u001b[39m=\u001b[39m {case : fitFunction\u001b[39m.\u001b[39;49mfitDistribution(MM2Hist, particle, fitRange, forceCommonGaussianMean \u001b[39m=\u001b[39;49m \u001b[39mFalse\u001b[39;49;00m) \u001b[39mfor\u001b[39;00m (case, MM2Hist) \u001b[39min\u001b[39;00m MM2Hists\u001b[39m.\u001b[39mitems()}\n",
      "File \u001b[0;32m~/GlueX/Analysis/ProtonTrackEfficiency/trackingEfficiency/fitFunction.py:145\u001b[0m, in \u001b[0;36mfitDistribution\u001b[0;34m(hist, particle, fitRange, forceCommonGaussianMean, fitMissingMassSquared)\u001b[0m\n\u001b[1;32m    143\u001b[0m maxNmbRefitAttempts \u001b[39m=\u001b[39m \u001b[39m5\u001b[39m\n\u001b[1;32m    144\u001b[0m nmbRefitAttempts \u001b[39m=\u001b[39m \u001b[39m0\u001b[39m\n\u001b[0;32m--> 145\u001b[0m \u001b[39mwhile\u001b[39;00m ((\u001b[39mnot\u001b[39;00m fitResult\u001b[39m.\u001b[39;49mIsValid() \u001b[39mor\u001b[39;00m COV_MATRIX_STATUS_CODE[fitResult\u001b[39m.\u001b[39mCovMatrixStatus()][\u001b[39m0\u001b[39m] \u001b[39m!=\u001b[39m \u001b[39m\"\u001b[39m\u001b[39maccurate\u001b[39m\u001b[39m\"\u001b[39m)\n\u001b[1;32m    146\u001b[0m         \u001b[39mand\u001b[39;00m nmbRefitAttempts \u001b[39m<\u001b[39m maxNmbRefitAttempts):\n\u001b[1;32m    147\u001b[0m   nmbRefitAttempts \u001b[39m+\u001b[39m\u001b[39m=\u001b[39m \u001b[39m1\u001b[39m\n\u001b[1;32m    148\u001b[0m   \u001b[39mprint\u001b[39m(\u001b[39mf\u001b[39m\u001b[39m\"\u001b[39m\u001b[39mFit did not converge. Performing refit attempt #\u001b[39m\u001b[39m{\u001b[39;00mnmbRefitAttempts\u001b[39m}\u001b[39;00m\u001b[39m of \u001b[39m\u001b[39m{\u001b[39;00mmaxNmbRefitAttempts\u001b[39m}\u001b[39;00m\u001b[39m.\u001b[39m\u001b[39m\"\u001b[39m)\n",
      "\u001b[0;31mReferenceError\u001b[0m: attempt to access a null-pointer"
     ]
    },
    {
     "name": "stderr",
     "output_type": "stream",
     "text": [
      "Warning in <Fit>: Fit data is empty \n",
      "Warning in <Fit>: Fit data is empty \n",
      "Warning in <Fit>: Fit data is empty \n",
      "Error in <TFitResultPtr>: TFitResult is empty - use the fit option S\n"
     ]
    }
   ],
   "source": [
    "fitResults = {case : fitFunction.fitDistribution(MM2Hist, particle, fitRange, forceCommonGaussianMean = False) for (case, MM2Hist) in MM2Hists.items()}"
   ]
  },
  {
   "cell_type": "code",
   "execution_count": null,
   "id": "284e75a7",
   "metadata": {},
   "outputs": [],
   "source": [
    "def fitStatusString(fitResult):\n",
    "  return (\n",
    "    f\"minimizer status = {fitResult.Status()}, \"\n",
    "    f\"fit result is valid = {fitResult.IsValid()}, \"\n",
    "    f\"covariance matrix status = {fitFunction.COV_MATRIX_STATUS_CODE[fitResult.CovMatrixStatus()][1]}\"\n",
    "  )"
   ]
  },
  {
   "cell_type": "markdown",
   "id": "ed111642",
   "metadata": {},
   "source": [
    "Show fit result"
   ]
  },
  {
   "cell_type": "code",
   "execution_count": null,
   "id": "645071f9",
   "metadata": {},
   "outputs": [],
   "source": [
    "canvsOverall = {}\n",
    "for case, MM2Hist in MM2Hists.items():\n",
    "  canvsOverall[case] = ROOT.TCanvas(sanitize_filename(f\"{selection}_{particle}_{channel}_{dataset}_mm2_fit_{case}{pdfFileNameSuffix}\"), \"\")\n",
    "  MM2Hist.Draw()\n",
    "  canvsOverall[case].Update()  # needed otherwise TPaveStats object is not created\n",
    "  stats = MM2Hist.FindObject(\"stats\")\n",
    "  stats.SetX1NDC(0.65)\n",
    "  stats.SetX2NDC(0.98)\n",
    "  stats.SetY1NDC(0.3)\n",
    "  stats.SetY2NDC(0.92)\n",
    "  canvsOverall[case].Draw()\n",
    "  canvsOverall[case].SaveAs(\".pdf\")\n",
    "for case, fitResult in fitResults.items():\n",
    "  print(f\"{case}: {fitStatusString(fitResult)}\")"
   ]
  },
  {
   "cell_type": "markdown",
   "id": "010da461",
   "metadata": {},
   "source": [
    "### Get overall signal yields and calculate average efficiency"
   ]
  },
  {
   "cell_type": "code",
   "execution_count": null,
   "id": "e8a2cdd6",
   "metadata": {},
   "outputs": [],
   "source": [
    "def getFitParameter(fitResult, parName):\n",
    "  parIndex = fitResult.Index(parName)\n",
    "  return ufloat(fitResult.Parameter(parIndex), fitResult.ParError(parIndex))"
   ]
  },
  {
   "cell_type": "code",
   "execution_count": null,
   "id": "d0959e24",
   "metadata": {},
   "outputs": [],
   "source": [
    "def getSignalYield(fitResult):\n",
    "  return getFitParameter(fitResult, \"A\")"
   ]
  },
  {
   "cell_type": "code",
   "execution_count": null,
   "id": "e09611aa",
   "metadata": {},
   "outputs": [],
   "source": [
    "def calculateEfficiency(fitResults):  # dictionary with TFitResults for \"Total\", \"Found\", and \"Missing\"\n",
    "  signalYields = {case : getSignalYield(fitResult) for (case, fitResult) in fitResults.items()}\n",
    "  return signalYields[\"Found\"] / (signalYields[\"Found\"] + signalYields[\"Missing\"])"
   ]
  },
  {
   "cell_type": "code",
   "execution_count": null,
   "id": "75037503",
   "metadata": {},
   "outputs": [],
   "source": [
    "signalYields = {case : getSignalYield(fitResult) for (case, fitResult) in fitResults.items()}\n",
    "overallEff = calculateEfficiency(fitResults)\n",
    "#TODO one could perform a combined fit of all 3 histograms enforcing Found + Missing == Total\n",
    "print(signalYields, f\"mismatch = {100 * (signalYields['Total'] - signalYields['Found'] - signalYields['Missing']) / signalYields['Total']}%\")\n",
    "print(f\"Overall efficiency = {100 * overallEff}%\")\n",
    "# {'Total': 1873153.5428730857+/-2973.1052778913872, 'Found': 973390.6673264182+/-1547.0396174425841, 'Missing': 939329.6803516215+/-3532.4453758962336} mismatch = -2.11+/-0.26%\n",
    "# Overall efficiency = 50.89+/-0.10%"
   ]
  },
  {
   "cell_type": "markdown",
   "id": "16e2cbfb",
   "metadata": {},
   "source": [
    "## Tracking efficiencies as a function of beam energy from missing-mass squared distributions"
   ]
  },
  {
   "cell_type": "markdown",
   "id": "limited-danger",
   "metadata": {},
   "source": [
    "### Fit missing-mass squared distributions in bins of beam energy"
   ]
  },
  {
   "cell_type": "code",
   "execution_count": null,
   "id": "0d55eb03",
   "metadata": {},
   "outputs": [],
   "source": [
    "ROOT.EnableImplicitMT()\n",
    "minCounts = 1000  # minimum number of counts required in energy bin\n",
    "MM2HistsEBins = {}\n",
    "energyBinWidth = (beamEnergyRange[1] - beamEnergyRange[0]) / float(nmbBeamEnergyBins)\n",
    "for case, caseFilter in makePlots.FILTER_CASES.items():\n",
    "  caseData = inputData.Filter(caseFilter)\n",
    "  MM2HistsEBins[case] = {}\n",
    "  for energyBin in range(nmbBeamEnergyBins):\n",
    "    energyBinMin = beamEnergyRange[0] + energyBin * energyBinWidth\n",
    "    energyBinMax = energyBinMin + energyBinWidth\n",
    "    energyFilter = f\"(({energyBinMin} < BeamEnergy) and (BeamEnergy < {energyBinMax}))\"\n",
    "    energyBinData = caseData.Filter(energyFilter)\n",
    "    MM2Hist = makePlots.getHistND(energyBinData, **mm2HistDef, filterExpression = additionalFilter,\n",
    "      histNameSuffix = f\"Egamma_{energyBinMin}_{energyBinMax}_{case}\",\n",
    "      histTitle = f\"{particle} ({channel}) {case}, {energyBinMin} < E_{{#gamma}} (GeV) < {energyBinMax}\")\n",
    "    MM2Hist.Draw()\n",
    "    MM2Hist.SetYTitle(f\"Counts / {MM2Hist.GetBinWidth(1)} (GeV/c^{{2}})^{{2}}\")\n",
    "    counts = MM2Hist.Integral(1, MM2Hist.GetNbinsX())\n",
    "    if counts >= minCounts:\n",
    "      MM2HistsEBins[case][(energyBinMin, energyBinMax)] = MM2Hist\n",
    "    else:\n",
    "      print(f\"Warning: {counts} counts in beam energy bin {(energyBinMin, energyBinMax)} are below the required minimum of {minCounts}. Skipping bin.\")\n",
    "ROOT.DisableImplicitMT()"
   ]
  },
  {
   "cell_type": "code",
   "execution_count": null,
   "id": "increasing-armenia",
   "metadata": {},
   "outputs": [],
   "source": [
    "def fitMissingMassSquaredBeamEnergyBins(\n",
    "  MM2HistsEBins,  # dictionary of dictionaries {case : {energy bin : histogram, ...}, ...}\n",
    "  **kwargs\n",
    "):\n",
    "  fitResults = {}\n",
    "  for case, MM2Hists in MM2HistsEBins.items():\n",
    "    fitResults[case] = {}\n",
    "    for energyBin, MM2Hist in MM2Hists.items():\n",
    "      # fit distribution\n",
    "      print(f\"Fitting case {case} for beam energy bin {energyBin} GeV\")\n",
    "      fitResults[case][energyBin] = fitFunction.fitDistribution(MM2Hist, **kwargs)\n",
    "\n",
    "  return fitResults"
   ]
  },
  {
   "cell_type": "code",
   "execution_count": null,
   "id": "b1297606",
   "metadata": {},
   "outputs": [],
   "source": [
    "fitResultsEBins = fitMissingMassSquaredBeamEnergyBins(MM2HistsEBins, particle = particle, fitRange = fitRange, forceCommonGaussianMean = True)"
   ]
  },
  {
   "cell_type": "markdown",
   "id": "d8338521",
   "metadata": {},
   "source": [
    "### Check whether fits converged"
   ]
  },
  {
   "cell_type": "code",
   "execution_count": null,
   "id": "edc009a6",
   "metadata": {},
   "outputs": [],
   "source": [
    "for case, fitResults in fitResultsEBins.items():\n",
    "  for energyBin, fitResult in fitResults.items():\n",
    "    print(f\"case {case}, energy bin {energyBin} GeV: {fitStatusString(fitResult)}\")"
   ]
  },
  {
   "cell_type": "markdown",
   "id": "75970e95",
   "metadata": {},
   "source": [
    "### Show fits"
   ]
  },
  {
   "cell_type": "code",
   "execution_count": null,
   "id": "adbd3058",
   "metadata": {},
   "outputs": [],
   "source": [
    "canvsEBins = {}\n",
    "for case, MM2Hists in MM2HistsEBins.items():\n",
    "  canvsEBins[case] = {}\n",
    "  for energyBin, MM2Hist in MM2Hists.items():\n",
    "    canvsEBins[case][energyBin] = ROOT.TCanvas(sanitize_filename(f\"{selection}_{particle}_{channel}_{dataset}_mm2_Egamma_{energyBin[0]}_{energyBin[1]}_fit_{case}{pdfFileNameSuffix}\"), \"\")\n",
    "    MM2Hist.SetMinimum(0)\n",
    "    MM2Hist.Draw()\n",
    "    canvsEBins[case][energyBin].Update()  # needed otherwise TPaveStats object is not created\n",
    "    stats = MM2Hist.FindObject(\"stats\")\n",
    "    stats.SetX1NDC(0.58)\n",
    "    stats.SetX2NDC(0.98)\n",
    "    stats.SetY1NDC(0.28)\n",
    "    stats.SetY2NDC(0.93)\n",
    "    canvsEBins[case][energyBin].Draw()\n",
    "    canvsEBins[case][energyBin].SaveAs(\".pdf\")"
   ]
  },
  {
   "cell_type": "markdown",
   "id": "797d3736",
   "metadata": {},
   "source": [
    "### Plot fit parameters"
   ]
  },
  {
   "cell_type": "markdown",
   "id": "0693aae8",
   "metadata": {},
   "source": [
    "Get values of fit parameters"
   ]
  },
  {
   "cell_type": "code",
   "execution_count": null,
   "id": "416876fb",
   "metadata": {},
   "outputs": [],
   "source": [
    "fitParValues = {}  # {case : {parameter name : [ [energy bin center, parameter value] ...] ...} ...}\n",
    "for case in fitResultsEBins.keys():\n",
    "  fitParValues[case] = {}\n",
    "  for energyBin, fitResult in fitResultsEBins[case].items():\n",
    "    energyBinCenter = (energyBin[0] + energyBin[1]) / 2\n",
    "    for parIndex in range(fitResult.NTotalParameters()):\n",
    "      parName = fitResult.ParName(parIndex)\n",
    "      parValue = getFitParameter(fitResult, parName)\n",
    "      if not parName in fitParValues[case]:\n",
    "        fitParValues[case][parName] = []\n",
    "      fitParValues[case][parName].append([energyBinCenter, parValue])\n",
    "    parName  = \"#chi^{2}/ndf\"\n",
    "    parValue = ufloat(fitResult.Chi2() / fitResult.Ndf(), 0)\n",
    "    if not parName in fitParValues[case]:\n",
    "      fitParValues[case][parName] = []\n",
    "    fitParValues[case][parName].append([energyBinCenter, parValue])\n",
    "# print(fitParValues)"
   ]
  },
  {
   "cell_type": "markdown",
   "id": "abaf7e4a",
   "metadata": {},
   "source": [
    "Postprocess fit-parameter values"
   ]
  },
  {
   "cell_type": "code",
   "execution_count": null,
   "id": "50c5918d",
   "metadata": {},
   "outputs": [],
   "source": [
    "for case in fitParValues.keys():\n",
    "  for energyBinIndex, r in enumerate(fitParValues[case][\"r\"]):\n",
    "    # calculate Gaussian 2 fraction\n",
    "    ratio = sin(r[1])**2\n",
    "    # make sure sigma_1 is the narrow Gaussian\n",
    "    sigma1 = fitParValues[case][\"#sigma_{1}\"][energyBinIndex][1]\n",
    "    sigma2 = fitParValues[case][\"#sigma_{2}\"][energyBinIndex][1]\n",
    "    if sigma1 > sigma2:\n",
    "      # print(\"!!!swap\")\n",
    "      # swap values\n",
    "      fitParValues[case][\"#sigma_{1}\"][energyBinIndex][1] = sigma2\n",
    "      fitParValues[case][\"#sigma_{2}\"][energyBinIndex][1] = sigma1\n",
    "      #TODO add case for separate mean values\n",
    "      ratio = 1 - ratio\n",
    "    # print(energyBinIndex, ratio)\n",
    "    fitParValues[case][\"r\"][energyBinIndex][1] = ratio\n",
    "# print(fitParValues)"
   ]
  },
  {
   "cell_type": "markdown",
   "id": "40f4b65b",
   "metadata": {},
   "source": [
    "Plot fit-parameter values"
   ]
  },
  {
   "cell_type": "code",
   "execution_count": null,
   "id": "e498fcb5",
   "metadata": {},
   "outputs": [],
   "source": [
    "caseColors = {\n",
    "  \"Total\"   : ROOT.kBlack,\n",
    "  \"Found\"   : ROOT.kGreen + 2,\n",
    "  \"Missing\" : ROOT.kRed + 1}\n",
    "energyOffsets = {\n",
    "  \"Total\"   : 0,\n",
    "  \"Found\"   : 0.1,\n",
    "  \"Missing\" : 0.05}\n",
    "canvsFitPar = []\n",
    "parValueMultiGraphs = []\n",
    "parValueGraphs = []\n",
    "for parName in fitParValues[\"Total\"].keys():\n",
    "  canvsFitPar.append(ROOT.TCanvas(sanitize_filename(f\"{selection}_{particle}_{channel}_{dataset}_mm2_fitpar_{parName}{pdfFileNameSuffix}\"), \"\"))\n",
    "  parValueMultiGraphs.append(ROOT.TMultiGraph())\n",
    "  parValueGraphs.append({})\n",
    "  for case in fitParValues.keys():\n",
    "    parValues = fitParValues[case][parName]\n",
    "    xVals = array.array('d', [energy + energyOffsets[case] for energy, _ in parValues])\n",
    "    yVals = array.array('d', [parValue.nominal_value for _, parValue in parValues])\n",
    "    yErrs = array.array('d', [parValue.std_dev       for _, parValue in parValues])\n",
    "    parValueGraphs[-1][case] = ROOT.TGraphErrors(len(xVals), xVals, yVals, ROOT.nullptr, yErrs)\n",
    "    graph = parValueGraphs[-1][case]\n",
    "    graph.SetTitle(case)\n",
    "    graph.SetMarkerStyle(ROOT.kFullCircle)\n",
    "    graph.SetMarkerSize(markerSize)\n",
    "    graph.SetMarkerColor(caseColors[case])\n",
    "    graph.SetLineColor(caseColors[case])\n",
    "    parValueMultiGraphs[-1].Add(graph)\n",
    "  parValueMultiGraph = parValueMultiGraphs[-1]\n",
    "  parValueMultiGraph.SetTitle(f\"{particle} ({channel})\")\n",
    "  parValueMultiGraph.GetXaxis().SetTitle(\"Beam Energy (GeV)\")\n",
    "  parValueMultiGraph.GetYaxis().SetTitle(parName if parName != \"r\" else \"Fraction Wide Gaussian\")\n",
    "  parValueMultiGraph.Draw(\"APZ\")\n",
    "  # canvsFitPar[-1].BuildLegend()  # crashes for unknown reason\n",
    "  if parName == \"#mu\":\n",
    "    parValueMultiGraph.SetMinimum(0.86)\n",
    "    parValueMultiGraph.SetMaximum(1.11)\n",
    "    # indicate nominal value m_p^2 value\n",
    "    line = ROOT.TLine()\n",
    "    line.SetLineStyle(ROOT.kDashed)\n",
    "    protonMassSq = 0.93827208816**2\n",
    "    line.DrawLine(parValueMultiGraph.GetXaxis().GetXmin(), protonMassSq, parValueMultiGraph.GetXaxis().GetXmax(), protonMassSq)\n",
    "  if parName == \"#chi^{2}/ndf\":\n",
    "    parValueMultiGraph.SetMinimum(0)\n",
    "    parValueMultiGraph.SetMaximum(10)\n",
    "    # indicate nominal value\n",
    "    line = ROOT.TLine()\n",
    "    line.SetLineStyle(ROOT.kDashed)\n",
    "    line.DrawLine(parValueMultiGraph.GetXaxis().GetXmin(), 1, parValueMultiGraph.GetXaxis().GetXmax(), 1)\n",
    "  canvsFitPar[-1].Draw()\n",
    "  canvsFitPar[-1].SaveAs(\".pdf\")"
   ]
  },
  {
   "cell_type": "markdown",
   "id": "5a80c2df",
   "metadata": {},
   "source": [
    "### Calculate and plot efficiencies"
   ]
  },
  {
   "cell_type": "code",
   "execution_count": null,
   "id": "ba89e35f",
   "metadata": {},
   "outputs": [],
   "source": [
    "efficienciesEBins = {}\n",
    "for energyBin in fitResultsEBins[\"Total\"].keys():\n",
    "  fitResults = {case : fitResultsEBins[case][energyBin] for case in fitResultsEBins.keys()}\n",
    "  efficienciesEBins[energyBin] = calculateEfficiency(fitResults)\n",
    "for energyBin, efficiency in efficienciesEBins.items():\n",
    "  print(f\"Efficiency in energy bin {energyBin} GeV = {100 * efficiency}%\")\n",
    "# Efficiency in energy bin (3.0, 4.0) GeV = 67.35+/-0.20%\n",
    "# Efficiency in energy bin (4.0, 5.0) GeV = 62.32+/-0.24%\n",
    "# Efficiency in energy bin (5.0, 6.0) GeV = 57.7+/-0.4%\n",
    "# Efficiency in energy bin (6.0, 7.0) GeV = 53.91+/-0.31%\n",
    "# Efficiency in energy bin (7.0, 8.0) GeV = 50.06+/-0.22%\n",
    "# Efficiency in energy bin (8.0, 9.0) GeV = 47.92+/-0.11%\n",
    "# Efficiency in energy bin (9.0, 10.0) GeV = 45.41+/-0.20%\n",
    "# Efficiency in energy bin (10.0, 11.0) GeV = 43.95+/-0.26%\n",
    "# Efficiency in energy bin (11.0, 12.0) GeV = 42.1+/-0.4%"
   ]
  },
  {
   "cell_type": "code",
   "execution_count": null,
   "id": "904682c8",
   "metadata": {},
   "outputs": [],
   "source": [
    "\n",
    "graphVals = [((energyBin[0] + energyBin[1]) / 2, efficiency) for (energyBin, efficiency) in efficienciesEBins.items()]\n",
    "xVals = array.array('d', [graphVal[0]               for graphVal in graphVals])\n",
    "yVals = array.array('d', [graphVal[1].nominal_value for graphVal in graphVals])\n",
    "yErrs = array.array('d', [graphVal[1].std_dev       for graphVal in graphVals])\n",
    "# print(xVals, yVals, yErrs)\n",
    "efficienciesEBinsGraph = ROOT.TGraphErrors(len(graphVals), xVals, yVals, ROOT.nullptr, yErrs)\n",
    "efficienciesEBinsGraph.SetTitle(f\"{particle} Track-Finding Efficiency ({channel})\")\n",
    "efficienciesEBinsGraph.SetMarkerStyle(ROOT.kFullCircle)\n",
    "efficienciesEBinsGraph.SetMarkerSize(markerSize)\n",
    "efficienciesEBinsGraph.GetXaxis().SetTitle(\"Beam Energy (GeV)\")\n",
    "efficienciesEBinsGraph.GetYaxis().SetTitle(\"Efficiency\")\n",
    "efficienciesEBinsGraph.SetMinimum(0.55)\n",
    "efficienciesEBinsGraph.SetMaximum(0.85)\n",
    "canvEff = ROOT.TCanvas(sanitize_filename(f\"{selection}_{particle}_{channel}_{dataset}_mm2_eff{pdfFileNameSuffix}\"), \"\")\n",
    "efficienciesEBinsGraph.Draw(\"AP\")\n",
    "# indicate value from fit of overall distributions\n",
    "line = ROOT.TLine()\n",
    "line.SetLineStyle(ROOT.kDashed)\n",
    "line.DrawLine(efficienciesEBinsGraph.GetXaxis().GetXmin(), overallEff.nominal_value, efficienciesEBinsGraph.GetXaxis().GetXmax(), overallEff.nominal_value)\n",
    "# indicate weighted average of efficiencies in energy bins\n",
    "meanEff = np.average(yVals, weights = [1 / (yErr**2) for yErr in yErrs])\n",
    "line.SetLineColor(ROOT.kRed + 1)\n",
    "line.DrawLine(efficienciesEBinsGraph.GetXaxis().GetXmin(), meanEff, efficienciesEBinsGraph.GetXaxis().GetXmax(), meanEff)\n",
    "canvEff.Draw()\n",
    "canvEff.SaveAs(\".pdf\")"
   ]
  },
  {
   "cell_type": "markdown",
   "id": "f6359c22",
   "metadata": {},
   "source": [
    "# Scratchpad"
   ]
  },
  {
   "cell_type": "code",
   "execution_count": null,
   "id": "1e347814",
   "metadata": {},
   "outputs": [],
   "source": [
    "# see https://root-forum.cern.ch/t/syntax-of-a-free-function-or-c-functor-for-tgraph-fitting/22292/3\n",
    "# and https://root.cern/manual/python/#just-in-time-compilation-of-small-strings\n",
    "ROOT.gInterpreter.ProcessLine('''\n",
    "struct MyFunction {\n",
    "  MyFunction() { }\n",
    "\n",
    "  double operator() (double* vars, double* pars)\n",
    "  {\n",
    "    const double x  = vars[0];\n",
    "    const double p0 = pars[0];\n",
    "    const double p1 = pars[1];\n",
    "    const double p2 = pars[2];\n",
    "\n",
    "    const double linTerm = p1 + p2 * x;\n",
    "    return p0 * p0 + linTerm * linTerm;\n",
    "  }\n",
    "};\n",
    "''')\n",
    "myFunc = ROOT.MyFunction()\n",
    "func = ROOT.TF1(\"func\", myFunc, -1, 1, 3)\n",
    "# make function visible in Cling's global scope so it can be used in TFormula\n",
    "# see https://root-forum.cern.ch/t/advanced-tformula-and-tf1-usage/36643/2\n",
    "ROOT.gInterpreter.ProcessLine(\"TF1& func = *((TF1*)gROOT->GetFunction(\\\"func\\\"))\")\n",
    "#!!! parameter setting in TFormula expression does not work\n",
    "fooFunc = ROOT.TF1(\"fooFunc\", \"func(x)\", -1, 1, 3)\n",
    "fooFunc.SetParameter(0, -1)\n",
    "fooFunc.SetParameter(1, -2)\n",
    "fooFunc.SetParameter(2, -3)\n",
    "# fooFunc = ROOT.TF1(\"fooFunc\", \"func(x, [2..4])\", -1, 1, 5)\n",
    "# fooFunc.SetParameter(0, 10)\n",
    "# fooFunc.SetParameter(1, -5)\n",
    "# fooFunc.SetParameter(2, -1)\n",
    "# fooFunc.SetParameter(3, -2)\n",
    "# fooFunc.SetParameter(4, -3)\n",
    "# canv = ROOT.TCanvas(\"canv\", \"\", 800, 600)\n",
    "fooFunc.Draw()\n",
    "canv.Draw()"
   ]
  },
  {
   "cell_type": "code",
   "execution_count": null,
   "id": "a9a698eb",
   "metadata": {},
   "outputs": [],
   "source": []
  }
 ],
 "metadata": {
  "kernelspec": {
   "display_name": "env",
   "language": "python",
   "name": "python3"
  },
  "language_info": {
   "codemirror_mode": {
    "name": "ipython",
    "version": 3
   },
   "file_extension": ".py",
   "mimetype": "text/x-python",
   "name": "python",
   "nbconvert_exporter": "python",
   "pygments_lexer": "ipython3",
   "version": "3.10.9 (main, Jan 10 2023, 04:23:14) [Clang 13.1.6 (clang-1316.0.21.2.5)]"
  },
  "vscode": {
   "interpreter": {
    "hash": "978b7efe48f4a1b7f247345614099316e109efb6f634030d70220c167923aa8b"
   }
  }
 },
 "nbformat": 4,
 "nbformat_minor": 5
}
